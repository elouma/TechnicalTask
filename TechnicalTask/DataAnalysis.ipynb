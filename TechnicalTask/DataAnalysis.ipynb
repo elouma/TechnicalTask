{
 "cells": [
  {
   "cell_type": "markdown",
   "metadata": {},
   "source": [
    "# Problem Statement:\n",
    "    \n",
    "You are required to help the broker build a classification model which classifies the client's order requirement with the best supplier.\n",
    "\n",
    "    Algorithms Covered:\n",
    "    \n",
    "Used Decision Tree and Random Forest algorithms to solve the same problem. \n",
    "\n",
    "Used k-NN and Naive Bayes algorithms to solve the same problem.\n",
    " "
   ]
  },
  {
   "cell_type": "markdown",
   "metadata": {},
   "source": [
    "### Step I: Importing, Cleaning and EDA"
   ]
  },
  {
   "cell_type": "code",
   "execution_count": 1,
   "metadata": {},
   "outputs": [],
   "source": [
    "# Importing libraries\n",
    "\n",
    "import pandas as pd\n",
    "import numpy as np \n",
    "import seaborn as sns\n",
    "import matplotlib.pyplot as plt\n",
    "sns.set_style('darkgrid')\n",
    "\n",
    "import warnings\n",
    "warnings.filterwarnings('ignore')"
   ]
  },
  {
   "cell_type": "markdown",
   "metadata": {},
   "source": [
    "### Training data\n"
   ]
  },
  {
   "cell_type": "code",
   "execution_count": 2,
   "metadata": {},
   "outputs": [
    {
     "data": {
      "text/html": [
       "<div>\n",
       "<style scoped>\n",
       "    .dataframe tbody tr th:only-of-type {\n",
       "        vertical-align: middle;\n",
       "    }\n",
       "\n",
       "    .dataframe tbody tr th {\n",
       "        vertical-align: top;\n",
       "    }\n",
       "\n",
       "    .dataframe thead th {\n",
       "        text-align: right;\n",
       "    }\n",
       "</style>\n",
       "<table border=\"1\" class=\"dataframe\">\n",
       "  <thead>\n",
       "    <tr style=\"text-align: right;\">\n",
       "      <th></th>\n",
       "      <th>Order Date</th>\n",
       "      <th>Purchase Order</th>\n",
       "      <th>Customer ID</th>\n",
       "      <th>Customer Location</th>\n",
       "      <th>Order Req Amt (Ton)</th>\n",
       "      <th>Fullfilled By ID</th>\n",
       "      <th>Fullfilled By Location</th>\n",
       "      <th>Supplied Amt (Ton)</th>\n",
       "      <th>Cost Of Delivery ($)</th>\n",
       "    </tr>\n",
       "  </thead>\n",
       "  <tbody>\n",
       "    <tr>\n",
       "      <th>0</th>\n",
       "      <td>02/10/21 01:11</td>\n",
       "      <td>50f43343-e930-4f2e-91be-606bc018c872</td>\n",
       "      <td>c53fa27e-c8c2-4b77-a89a-6ed11fa87317</td>\n",
       "      <td>Cincinatti</td>\n",
       "      <td>203</td>\n",
       "      <td>19f4a11d-63ca-4127-975a-15933aaa33ff</td>\n",
       "      <td>Omaha</td>\n",
       "      <td>203</td>\n",
       "      <td>2233</td>\n",
       "    </tr>\n",
       "    <tr>\n",
       "      <th>1</th>\n",
       "      <td>02/10/21 04:17</td>\n",
       "      <td>cb06e4cc-5469-4e30-a92f-287ae4a62896</td>\n",
       "      <td>d20009ca-5479-4232-8b07-7c8c11f74c2e</td>\n",
       "      <td>St Louis</td>\n",
       "      <td>127</td>\n",
       "      <td>cf9651b0-df49-498f-a66c-0a7f897545ce</td>\n",
       "      <td>Kansas City</td>\n",
       "      <td>127</td>\n",
       "      <td>1016</td>\n",
       "    </tr>\n",
       "    <tr>\n",
       "      <th>2</th>\n",
       "      <td>02/10/21 04:43</td>\n",
       "      <td>a23e6eb8-8a52-434b-b35c-5c1d3a70b0ea</td>\n",
       "      <td>70080304-afa3-4026-9c86-95970c4ed5b4</td>\n",
       "      <td>Chicago</td>\n",
       "      <td>242</td>\n",
       "      <td>ae5d7b77-86c9-49d2-ac18-09bf9883adc2</td>\n",
       "      <td>Des Moines</td>\n",
       "      <td>210</td>\n",
       "      <td>840</td>\n",
       "    </tr>\n",
       "    <tr>\n",
       "      <th>3</th>\n",
       "      <td>02/09/21 03:26</td>\n",
       "      <td>cd5fdc3d-b08f-426e-bc9e-fb25a676d2be</td>\n",
       "      <td>c53fa27e-c8c2-4b77-a89a-6ed11fa87317</td>\n",
       "      <td>Cincinatti</td>\n",
       "      <td>188</td>\n",
       "      <td>cf9651b0-df49-498f-a66c-0a7f897545ce</td>\n",
       "      <td>Kansas City</td>\n",
       "      <td>188</td>\n",
       "      <td>1880</td>\n",
       "    </tr>\n",
       "    <tr>\n",
       "      <th>4</th>\n",
       "      <td>02/09/21 05:08</td>\n",
       "      <td>90474d73-46c2-4e7a-a42e-27907d13fe48</td>\n",
       "      <td>70080304-afa3-4026-9c86-95970c4ed5b4</td>\n",
       "      <td>Chicago</td>\n",
       "      <td>154</td>\n",
       "      <td>19f4a11d-63ca-4127-975a-15933aaa33ff</td>\n",
       "      <td>Omaha</td>\n",
       "      <td>154</td>\n",
       "      <td>1078</td>\n",
       "    </tr>\n",
       "  </tbody>\n",
       "</table>\n",
       "</div>"
      ],
      "text/plain": [
       "       Order Date                        Purchase Order  \\\n",
       "0  02/10/21 01:11  50f43343-e930-4f2e-91be-606bc018c872   \n",
       "1  02/10/21 04:17  cb06e4cc-5469-4e30-a92f-287ae4a62896   \n",
       "2  02/10/21 04:43  a23e6eb8-8a52-434b-b35c-5c1d3a70b0ea   \n",
       "3  02/09/21 03:26  cd5fdc3d-b08f-426e-bc9e-fb25a676d2be   \n",
       "4  02/09/21 05:08  90474d73-46c2-4e7a-a42e-27907d13fe48   \n",
       "\n",
       "                            Customer ID Customer Location  \\\n",
       "0  c53fa27e-c8c2-4b77-a89a-6ed11fa87317        Cincinatti   \n",
       "1  d20009ca-5479-4232-8b07-7c8c11f74c2e          St Louis   \n",
       "2  70080304-afa3-4026-9c86-95970c4ed5b4           Chicago   \n",
       "3  c53fa27e-c8c2-4b77-a89a-6ed11fa87317        Cincinatti   \n",
       "4  70080304-afa3-4026-9c86-95970c4ed5b4           Chicago   \n",
       "\n",
       "   Order Req Amt (Ton)                      Fullfilled By ID  \\\n",
       "0                  203  19f4a11d-63ca-4127-975a-15933aaa33ff   \n",
       "1                  127  cf9651b0-df49-498f-a66c-0a7f897545ce   \n",
       "2                  242  ae5d7b77-86c9-49d2-ac18-09bf9883adc2   \n",
       "3                  188  cf9651b0-df49-498f-a66c-0a7f897545ce   \n",
       "4                  154  19f4a11d-63ca-4127-975a-15933aaa33ff   \n",
       "\n",
       "  Fullfilled By Location  Supplied Amt (Ton)  Cost Of Delivery ($)  \n",
       "0                  Omaha                 203                  2233  \n",
       "1            Kansas City                 127                  1016  \n",
       "2             Des Moines                 210                   840  \n",
       "3            Kansas City                 188                  1880  \n",
       "4                  Omaha                 154                  1078  "
      ]
     },
     "execution_count": 2,
     "metadata": {},
     "output_type": "execute_result"
    }
   ],
   "source": [
    "df = pd.read_csv('~/Desktop/TechnicalTask/dataset/dataset.csv')\n",
    "\n",
    "df.head()"
   ]
  },
  {
   "cell_type": "code",
   "execution_count": 3,
   "metadata": {
    "scrolled": true
   },
   "outputs": [
    {
     "name": "stdout",
     "output_type": "stream",
     "text": [
      "order_dataset:  (168, 9)\n",
      "<class 'pandas.core.frame.DataFrame'>\n",
      "RangeIndex: 168 entries, 0 to 167\n",
      "Data columns (total 9 columns):\n",
      " #   Column                  Non-Null Count  Dtype \n",
      "---  ------                  --------------  ----- \n",
      " 0   Order Date              168 non-null    object\n",
      " 1   Purchase Order          168 non-null    object\n",
      " 2   Customer ID             168 non-null    object\n",
      " 3   Customer Location       168 non-null    object\n",
      " 4   Order Req Amt (Ton)     168 non-null    int64 \n",
      " 5   Fullfilled By ID        168 non-null    object\n",
      " 6   Fullfilled By Location  168 non-null    object\n",
      " 7   Supplied Amt (Ton)      168 non-null    int64 \n",
      " 8   Cost Of Delivery ($)    168 non-null    int64 \n",
      "dtypes: int64(3), object(6)\n",
      "memory usage: 11.9+ KB\n"
     ]
    }
   ],
   "source": [
    "# Looking at the bigger picture\n",
    "print(\"order_dataset: \",df.shape)\n",
    "df.info()\n"
   ]
  },
  {
   "cell_type": "code",
   "execution_count": 4,
   "metadata": {},
   "outputs": [
    {
     "data": {
      "text/plain": [
       "Order Date                0\n",
       "Purchase Order            0\n",
       "Customer ID               0\n",
       "Customer Location         0\n",
       "Order Req Amt (Ton)       0\n",
       "Fullfilled By ID          0\n",
       "Fullfilled By Location    0\n",
       "Supplied Amt (Ton)        0\n",
       "Cost Of Delivery ($)      0\n",
       "dtype: int64"
      ]
     },
     "execution_count": 4,
     "metadata": {},
     "output_type": "execute_result"
    }
   ],
   "source": [
    "df.isnull().sum()"
   ]
  },
  {
   "cell_type": "code",
   "execution_count": 5,
   "metadata": {},
   "outputs": [
    {
     "data": {
      "text/html": [
       "<div>\n",
       "<style scoped>\n",
       "    .dataframe tbody tr th:only-of-type {\n",
       "        vertical-align: middle;\n",
       "    }\n",
       "\n",
       "    .dataframe tbody tr th {\n",
       "        vertical-align: top;\n",
       "    }\n",
       "\n",
       "    .dataframe thead th {\n",
       "        text-align: right;\n",
       "    }\n",
       "</style>\n",
       "<table border=\"1\" class=\"dataframe\">\n",
       "  <thead>\n",
       "    <tr style=\"text-align: right;\">\n",
       "      <th></th>\n",
       "      <th>Order Req Amt (Ton)</th>\n",
       "      <th>Supplied Amt (Ton)</th>\n",
       "      <th>Cost Of Delivery ($)</th>\n",
       "    </tr>\n",
       "  </thead>\n",
       "  <tbody>\n",
       "    <tr>\n",
       "      <th>count</th>\n",
       "      <td>168.000000</td>\n",
       "      <td>168.000000</td>\n",
       "      <td>168.000000</td>\n",
       "    </tr>\n",
       "    <tr>\n",
       "      <th>mean</th>\n",
       "      <td>197.148810</td>\n",
       "      <td>159.517857</td>\n",
       "      <td>1378.839286</td>\n",
       "    </tr>\n",
       "    <tr>\n",
       "      <th>std</th>\n",
       "      <td>97.376892</td>\n",
       "      <td>66.268098</td>\n",
       "      <td>871.956169</td>\n",
       "    </tr>\n",
       "    <tr>\n",
       "      <th>min</th>\n",
       "      <td>52.000000</td>\n",
       "      <td>52.000000</td>\n",
       "      <td>260.000000</td>\n",
       "    </tr>\n",
       "    <tr>\n",
       "      <th>25%</th>\n",
       "      <td>124.750000</td>\n",
       "      <td>109.750000</td>\n",
       "      <td>757.500000</td>\n",
       "    </tr>\n",
       "    <tr>\n",
       "      <th>50%</th>\n",
       "      <td>179.500000</td>\n",
       "      <td>146.000000</td>\n",
       "      <td>1041.500000</td>\n",
       "    </tr>\n",
       "    <tr>\n",
       "      <th>75%</th>\n",
       "      <td>263.250000</td>\n",
       "      <td>201.500000</td>\n",
       "      <td>1727.000000</td>\n",
       "    </tr>\n",
       "    <tr>\n",
       "      <th>max</th>\n",
       "      <td>443.000000</td>\n",
       "      <td>351.000000</td>\n",
       "      <td>4212.000000</td>\n",
       "    </tr>\n",
       "  </tbody>\n",
       "</table>\n",
       "</div>"
      ],
      "text/plain": [
       "       Order Req Amt (Ton)  Supplied Amt (Ton)  Cost Of Delivery ($)\n",
       "count           168.000000          168.000000            168.000000\n",
       "mean            197.148810          159.517857           1378.839286\n",
       "std              97.376892           66.268098            871.956169\n",
       "min              52.000000           52.000000            260.000000\n",
       "25%             124.750000          109.750000            757.500000\n",
       "50%             179.500000          146.000000           1041.500000\n",
       "75%             263.250000          201.500000           1727.000000\n",
       "max             443.000000          351.000000           4212.000000"
      ]
     },
     "execution_count": 5,
     "metadata": {},
     "output_type": "execute_result"
    }
   ],
   "source": [
    "# Summary of each numerical attribute\n",
    "\n",
    "df.describe()"
   ]
  },
  {
   "cell_type": "code",
   "execution_count": 6,
   "metadata": {},
   "outputs": [
    {
     "data": {
      "image/png": "[encoded data removed]",
      "text/plain": [
       "<Figure size 1440x1080 with 4 Axes>"
      ]
     },
     "metadata": {
      "needs_background": "light"
     },
     "output_type": "display_data"
    }
   ],
   "source": [
    "%matplotlib inline\n",
    "df.hist(bins=50, figsize=(20,15))\n",
    "plt.show()"
   ]
  },
  {
   "cell_type": "code",
   "execution_count": 7,
   "metadata": {},
   "outputs": [
    {
     "name": "stdout",
     "output_type": "stream",
     "text": [
      "The number of request made by customers\n",
      " c53fa27e-c8c2-4b77-a89a-6ed11fa87317    56\n",
      "70080304-afa3-4026-9c86-95970c4ed5b4    56\n",
      "d20009ca-5479-4232-8b07-7c8c11f74c2e    56\n",
      "Name: Customer ID, dtype: int64\n"
     ]
    }
   ],
   "source": [
    "print('The number of request made by customers\\n',df[\"Customer ID\"].value_counts())"
   ]
  },
  {
   "cell_type": "code",
   "execution_count": 8,
   "metadata": {},
   "outputs": [
    {
     "data": {
      "text/plain": [
       "0"
      ]
     },
     "execution_count": 8,
     "metadata": {},
     "output_type": "execute_result"
    }
   ],
   "source": [
    "df[\"Customer ID\"].isnull().sum() \n"
   ]
  },
  {
   "cell_type": "code",
   "execution_count": 9,
   "metadata": {
    "scrolled": true
   },
   "outputs": [
    {
     "name": "stdout",
     "output_type": "stream",
     "text": [
      "The count of orders fullfilled by fullfilled location\n",
      " Des Moines     58\n",
      "Omaha          56\n",
      "Kansas City    54\n",
      "Name: Fullfilled By Location, dtype: int64\n"
     ]
    }
   ],
   "source": [
    "print('The count of orders fullfilled by fullfilled location\\n',df[\"Fullfilled By Location\"].value_counts())"
   ]
  },
  {
   "cell_type": "code",
   "execution_count": 10,
   "metadata": {},
   "outputs": [
    {
     "name": "stdout",
     "output_type": "stream",
     "text": [
      "The count of orders fullfilled by suppliers \n",
      " ae5d7b77-86c9-49d2-ac18-09bf9883adc2    58\n",
      "19f4a11d-63ca-4127-975a-15933aaa33ff    56\n",
      "cf9651b0-df49-498f-a66c-0a7f897545ce    54\n",
      "Name: Fullfilled By ID, dtype: int64\n"
     ]
    }
   ],
   "source": [
    "print('The count of orders fullfilled by suppliers \\n',df[\"Fullfilled By ID\"].value_counts())"
   ]
  },
  {
   "cell_type": "code",
   "execution_count": 11,
   "metadata": {},
   "outputs": [
    {
     "name": "stdout",
     "output_type": "stream",
     "text": [
      "The count of orders made by customer location \n",
      " Chicago       56\n",
      "Cincinatti    56\n",
      "St Louis      56\n",
      "Name: Customer Location, dtype: int64\n"
     ]
    }
   ],
   "source": [
    "print('The count of orders made by customer location \\n',df[\"Customer Location\"].value_counts())"
   ]
  },
  {
   "cell_type": "markdown",
   "metadata": {},
   "source": [
    "### Discover and Visualize the Data to Gain Insights"
   ]
  },
  {
   "cell_type": "code",
   "execution_count": 12,
   "metadata": {},
   "outputs": [
    {
     "data": {
      "image/png": "[encoded data removed]",
      "text/plain": [
       "<Figure size 1080x288 with 2 Axes>"
      ]
     },
     "metadata": {
      "needs_background": "light"
     },
     "output_type": "display_data"
    }
   ],
   "source": [
    "ax1 = df.groupby([\"Fullfilled By Location\"])[\"Customer Location\"].value_counts().unstack().round(3)\n",
    "\n",
    "#Counting the number of customer order fullfilled in each location\n",
    "\n",
    "#Percentage of Customer Order in each segment\n",
    "ax2 = df.pivot_table(columns='Customer Location',index='Fullfilled By Location',values='Customer ID',aggfunc='count')\n",
    "ax2 = ax2.div(ax2.sum(axis=1), axis = 0).round(2)\n",
    "\n",
    "#count plot\n",
    "fig, ax = plt.subplots(1,2)\n",
    "ax1.plot(kind=\"bar\",ax = ax[0],figsize = (15,4))\n",
    "ax[0].set_xticklabels(labels = ['Des Moines','Omaha','Kansas City'],rotation = 0)\n",
    "ax[0].set_title(str(ax1))\n",
    "\n",
    "#stacked bars\n",
    "ax2.plot(kind=\"bar\",stacked = True,ax = ax[1],figsize = (15,4))\n",
    "ax[1].set_xticklabels(labels = ['Des Moines','Omaha','Kansas City'],rotation = 0)\n",
    "ax[1].set_title(str(ax2))\n",
    "plt.show()\n"
   ]
  },
  {
   "cell_type": "code",
   "execution_count": 13,
   "metadata": {
    "scrolled": true
   },
   "outputs": [
    {
     "data": {
      "text/plain": [
       "count    168.000000\n",
       "mean     197.148810\n",
       "std       97.376892\n",
       "min       52.000000\n",
       "25%      124.750000\n",
       "50%      179.500000\n",
       "75%      263.250000\n",
       "90%      336.400000\n",
       "95%      397.850000\n",
       "99%      428.970000\n",
       "max      443.000000\n",
       "Name: Order Req Amt (Ton), dtype: float64"
      ]
     },
     "execution_count": 13,
     "metadata": {},
     "output_type": "execute_result"
    }
   ],
   "source": [
    "df[\"Order Req Amt (Ton)\"].describe(percentiles=[0.25,0.5,0.75,0.9,0.95,0.99])"
   ]
  },
  {
   "cell_type": "code",
   "execution_count": 14,
   "metadata": {},
   "outputs": [
    {
     "data": {
      "image/png": "[encoded data removed]",
      "text/plain": [
       "<Figure size 720x360 with 2 Axes>"
      ]
     },
     "metadata": {
      "needs_background": "light"
     },
     "output_type": "display_data"
    }
   ],
   "source": [
    "# Looking at the distribution of column Order Req Amt (Ton)\n",
    "plt.figure(figsize=(10,5))\n",
    "\n",
    "skewness = round(df[\"Order Req Amt (Ton)\"].skew(),2)\n",
    "kurtosis = round(df[\"Order Req Amt (Ton)\"].kurtosis(),2)\n",
    "mean = round(np.mean(df[\"Order Req Amt (Ton)\"]),0)\n",
    "median = np.median(df[\"Order Req Amt (Ton)\"])\n",
    "\n",
    "plt.subplot(1,2,1)\n",
    "sns.boxplot(y=df[\"Order Req Amt (Ton)\"])\n",
    "plt.title('Boxplot\\n Mean:{}\\n Median:{}\\n Skewness:{}\\n Kurtosis:{}'.format(mean,median,skewness,kurtosis))\n",
    "\n",
    "plt.subplot(1,2,2)\n",
    "sns.distplot(df[\"Order Req Amt (Ton)\"])\n",
    "plt.title('Distribution Plot\\n Mean:{}\\n Median:{}\\n Skewness:{}\\n Kurtosis:{}'.format(mean,median,skewness,kurtosis))\n",
    "\n",
    "plt.show()"
   ]
  },
  {
   "cell_type": "code",
   "execution_count": 15,
   "metadata": {},
   "outputs": [
    {
     "data": {
      "image/png": "[encoded data removed]",
      "text/plain": [
       "<Figure size 1080x360 with 2 Axes>"
      ]
     },
     "metadata": {
      "needs_background": "light"
     },
     "output_type": "display_data"
    },
    {
     "data": {
      "image/png": "[encoded data removed]",
      "text/plain": [
       "<Figure size 1080x360 with 2 Axes>"
      ]
     },
     "metadata": {
      "needs_background": "light"
     },
     "output_type": "display_data"
    }
   ],
   "source": [
    "# Looking the distribution of column Fullfilled By Location w.r.t to each segment\n",
    "a = df[df[\"Fullfilled By Location\"] =='Des Moines'][\"Order Req Amt (Ton)\"]\n",
    "b = df[df[\"Fullfilled By Location\"] =='Omaha'][\"Order Req Amt (Ton)\"]\n",
    "c = df[df[\"Fullfilled By Location\"] =='Kansas City'][\"Order Req Amt (Ton)\"]\n",
    "\n",
    "plt.figure(figsize=(15,5))\n",
    "\n",
    "plt.subplot(1,2,1)\n",
    "sns.boxplot(data = df, x = \"Fullfilled By Location\", y=\"Order Req Amt (Ton)\")\n",
    "plt.title('Boxplot')\n",
    "\n",
    "plt.subplot(1,2,2)\n",
    "sns.kdeplot(a,shade= False, label = 'Des Moines')\n",
    "sns.kdeplot(b,shade= False, label = 'Omaha')\n",
    "sns.kdeplot(c,shade= False, label = 'Kansas City')\n",
    "plt.xlabel('Order Req Amt (Ton)')\n",
    "plt.ylabel('Density')\n",
    "plt.title(\"Mean\\n A: {}\\n B: {}\\n C: {}\".format(round(a.mean(),0),round(b.mean(),0),round(c.mean(),0)))\n",
    "plt.show()\n",
    "\n",
    "a = df[df[\"Fullfilled By Location\"] =='Des Moines'][\"Cost Of Delivery ($)\"]\n",
    "b = df[df[\"Fullfilled By Location\"] =='Omaha'][\"Cost Of Delivery ($)\"]\n",
    "c = df[df[\"Fullfilled By Location\"]=='Kansas City'][\"Cost Of Delivery ($)\"]\n",
    "\n",
    "plt.figure(figsize=(15,5))\n",
    "\n",
    "plt.subplot(1,2,1)\n",
    "sns.boxplot(data = df, x = \"Fullfilled By Location\", y=\"Cost Of Delivery ($)\")\n",
    "plt.title('Boxplot')\n",
    "\n",
    "plt.subplot(1,2,2)\n",
    "sns.kdeplot(a,shade= False, label = 'Des Moines')\n",
    "sns.kdeplot(b,shade= False, label = 'Omaha')\n",
    "sns.kdeplot(c,shade= False, label = 'Kansas City')\n",
    "plt.xlabel('Cost Of Delivery ($)')\n",
    "plt.ylabel('Density')\n",
    "plt.title(\"Mean\\n Des Moines: {}\\n Omaha: {}\\n Kansas City: {}\\n\".format(round(a.mean(),0),round(b.mean(),0),round(c.mean(),0)))\n",
    "\n",
    "plt.show()"
   ]
  },
  {
   "cell_type": "code",
   "execution_count": 16,
   "metadata": {},
   "outputs": [
    {
     "data": {
      "text/html": [
       "<div>\n",
       "<style scoped>\n",
       "    .dataframe tbody tr th:only-of-type {\n",
       "        vertical-align: middle;\n",
       "    }\n",
       "\n",
       "    .dataframe tbody tr th {\n",
       "        vertical-align: top;\n",
       "    }\n",
       "\n",
       "    .dataframe thead th {\n",
       "        text-align: right;\n",
       "    }\n",
       "</style>\n",
       "<table border=\"1\" class=\"dataframe\">\n",
       "  <thead>\n",
       "    <tr style=\"text-align: right;\">\n",
       "      <th></th>\n",
       "      <th>Order Date</th>\n",
       "      <th>Purchase Order</th>\n",
       "      <th>Customer ID</th>\n",
       "      <th>Customer Location</th>\n",
       "      <th>Order Req Amt (Ton)</th>\n",
       "      <th>Fullfilled By ID</th>\n",
       "      <th>Fullfilled By Location</th>\n",
       "      <th>Supplied Amt (Ton)</th>\n",
       "      <th>Cost Of Delivery ($)</th>\n",
       "    </tr>\n",
       "  </thead>\n",
       "  <tbody>\n",
       "    <tr>\n",
       "      <th>0</th>\n",
       "      <td>02/10/21 01:11</td>\n",
       "      <td>50f43343-e930-4f2e-91be-606bc018c872</td>\n",
       "      <td>c53fa27e-c8c2-4b77-a89a-6ed11fa87317</td>\n",
       "      <td>Cincinatti</td>\n",
       "      <td>203</td>\n",
       "      <td>19f4a11d-63ca-4127-975a-15933aaa33ff</td>\n",
       "      <td>Omaha</td>\n",
       "      <td>203</td>\n",
       "      <td>2233</td>\n",
       "    </tr>\n",
       "    <tr>\n",
       "      <th>1</th>\n",
       "      <td>02/10/21 04:17</td>\n",
       "      <td>cb06e4cc-5469-4e30-a92f-287ae4a62896</td>\n",
       "      <td>d20009ca-5479-4232-8b07-7c8c11f74c2e</td>\n",
       "      <td>St Louis</td>\n",
       "      <td>127</td>\n",
       "      <td>cf9651b0-df49-498f-a66c-0a7f897545ce</td>\n",
       "      <td>Kansas City</td>\n",
       "      <td>127</td>\n",
       "      <td>1016</td>\n",
       "    </tr>\n",
       "    <tr>\n",
       "      <th>2</th>\n",
       "      <td>02/10/21 04:43</td>\n",
       "      <td>a23e6eb8-8a52-434b-b35c-5c1d3a70b0ea</td>\n",
       "      <td>70080304-afa3-4026-9c86-95970c4ed5b4</td>\n",
       "      <td>Chicago</td>\n",
       "      <td>242</td>\n",
       "      <td>ae5d7b77-86c9-49d2-ac18-09bf9883adc2</td>\n",
       "      <td>Des Moines</td>\n",
       "      <td>210</td>\n",
       "      <td>840</td>\n",
       "    </tr>\n",
       "    <tr>\n",
       "      <th>3</th>\n",
       "      <td>02/09/21 03:26</td>\n",
       "      <td>cd5fdc3d-b08f-426e-bc9e-fb25a676d2be</td>\n",
       "      <td>c53fa27e-c8c2-4b77-a89a-6ed11fa87317</td>\n",
       "      <td>Cincinatti</td>\n",
       "      <td>188</td>\n",
       "      <td>cf9651b0-df49-498f-a66c-0a7f897545ce</td>\n",
       "      <td>Kansas City</td>\n",
       "      <td>188</td>\n",
       "      <td>1880</td>\n",
       "    </tr>\n",
       "    <tr>\n",
       "      <th>4</th>\n",
       "      <td>02/09/21 05:08</td>\n",
       "      <td>90474d73-46c2-4e7a-a42e-27907d13fe48</td>\n",
       "      <td>70080304-afa3-4026-9c86-95970c4ed5b4</td>\n",
       "      <td>Chicago</td>\n",
       "      <td>154</td>\n",
       "      <td>19f4a11d-63ca-4127-975a-15933aaa33ff</td>\n",
       "      <td>Omaha</td>\n",
       "      <td>154</td>\n",
       "      <td>1078</td>\n",
       "    </tr>\n",
       "  </tbody>\n",
       "</table>\n",
       "</div>"
      ],
      "text/plain": [
       "       Order Date                        Purchase Order  \\\n",
       "0  02/10/21 01:11  50f43343-e930-4f2e-91be-606bc018c872   \n",
       "1  02/10/21 04:17  cb06e4cc-5469-4e30-a92f-287ae4a62896   \n",
       "2  02/10/21 04:43  a23e6eb8-8a52-434b-b35c-5c1d3a70b0ea   \n",
       "3  02/09/21 03:26  cd5fdc3d-b08f-426e-bc9e-fb25a676d2be   \n",
       "4  02/09/21 05:08  90474d73-46c2-4e7a-a42e-27907d13fe48   \n",
       "\n",
       "                            Customer ID Customer Location  \\\n",
       "0  c53fa27e-c8c2-4b77-a89a-6ed11fa87317        Cincinatti   \n",
       "1  d20009ca-5479-4232-8b07-7c8c11f74c2e          St Louis   \n",
       "2  70080304-afa3-4026-9c86-95970c4ed5b4           Chicago   \n",
       "3  c53fa27e-c8c2-4b77-a89a-6ed11fa87317        Cincinatti   \n",
       "4  70080304-afa3-4026-9c86-95970c4ed5b4           Chicago   \n",
       "\n",
       "   Order Req Amt (Ton)                      Fullfilled By ID  \\\n",
       "0                  203  19f4a11d-63ca-4127-975a-15933aaa33ff   \n",
       "1                  127  cf9651b0-df49-498f-a66c-0a7f897545ce   \n",
       "2                  242  ae5d7b77-86c9-49d2-ac18-09bf9883adc2   \n",
       "3                  188  cf9651b0-df49-498f-a66c-0a7f897545ce   \n",
       "4                  154  19f4a11d-63ca-4127-975a-15933aaa33ff   \n",
       "\n",
       "  Fullfilled By Location  Supplied Amt (Ton)  Cost Of Delivery ($)  \n",
       "0                  Omaha                 203                  2233  \n",
       "1            Kansas City                 127                  1016  \n",
       "2             Des Moines                 210                   840  \n",
       "3            Kansas City                 188                  1880  \n",
       "4                  Omaha                 154                  1078  "
      ]
     },
     "execution_count": 16,
     "metadata": {},
     "output_type": "execute_result"
    }
   ],
   "source": [
    "df1 = df.copy()\n",
    "df1.head()"
   ]
  },
  {
   "cell_type": "code",
   "execution_count": 17,
   "metadata": {},
   "outputs": [],
   "source": [
    "# Separating dependent-independent variables\n",
    "\n",
    "X = df1.drop(['Order Date', 'Purchase Order', 'Customer ID','Supplied Amt (Ton)',\n",
    "              'Fullfilled By ID','Fullfilled By Location', 'Cost Of Delivery ($)'], axis=1)\n",
    "y =df1['Fullfilled By ID']"
   ]
  },
  {
   "cell_type": "code",
   "execution_count": 18,
   "metadata": {},
   "outputs": [
    {
     "data": {
      "text/html": [
       "<div>\n",
       "<style scoped>\n",
       "    .dataframe tbody tr th:only-of-type {\n",
       "        vertical-align: middle;\n",
       "    }\n",
       "\n",
       "    .dataframe tbody tr th {\n",
       "        vertical-align: top;\n",
       "    }\n",
       "\n",
       "    .dataframe thead th {\n",
       "        text-align: right;\n",
       "    }\n",
       "</style>\n",
       "<table border=\"1\" class=\"dataframe\">\n",
       "  <thead>\n",
       "    <tr style=\"text-align: right;\">\n",
       "      <th></th>\n",
       "      <th>Customer Location</th>\n",
       "      <th>Order Req Amt (Ton)</th>\n",
       "    </tr>\n",
       "  </thead>\n",
       "  <tbody>\n",
       "    <tr>\n",
       "      <th>0</th>\n",
       "      <td>Cincinatti</td>\n",
       "      <td>203</td>\n",
       "    </tr>\n",
       "    <tr>\n",
       "      <th>1</th>\n",
       "      <td>St Louis</td>\n",
       "      <td>127</td>\n",
       "    </tr>\n",
       "    <tr>\n",
       "      <th>2</th>\n",
       "      <td>Chicago</td>\n",
       "      <td>242</td>\n",
       "    </tr>\n",
       "    <tr>\n",
       "      <th>3</th>\n",
       "      <td>Cincinatti</td>\n",
       "      <td>188</td>\n",
       "    </tr>\n",
       "    <tr>\n",
       "      <th>4</th>\n",
       "      <td>Chicago</td>\n",
       "      <td>154</td>\n",
       "    </tr>\n",
       "  </tbody>\n",
       "</table>\n",
       "</div>"
      ],
      "text/plain": [
       "  Customer Location  Order Req Amt (Ton)\n",
       "0        Cincinatti                  203\n",
       "1          St Louis                  127\n",
       "2           Chicago                  242\n",
       "3        Cincinatti                  188\n",
       "4           Chicago                  154"
      ]
     },
     "execution_count": 18,
     "metadata": {},
     "output_type": "execute_result"
    }
   ],
   "source": [
    "X.head()"
   ]
  },
  {
   "cell_type": "code",
   "execution_count": 19,
   "metadata": {},
   "outputs": [
    {
     "data": {
      "text/html": [
       "<div>\n",
       "<style scoped>\n",
       "    .dataframe tbody tr th:only-of-type {\n",
       "        vertical-align: middle;\n",
       "    }\n",
       "\n",
       "    .dataframe tbody tr th {\n",
       "        vertical-align: top;\n",
       "    }\n",
       "\n",
       "    .dataframe thead th {\n",
       "        text-align: right;\n",
       "    }\n",
       "</style>\n",
       "<table border=\"1\" class=\"dataframe\">\n",
       "  <thead>\n",
       "    <tr style=\"text-align: right;\">\n",
       "      <th></th>\n",
       "      <th>Order Req Amt (Ton)</th>\n",
       "    </tr>\n",
       "  </thead>\n",
       "  <tbody>\n",
       "    <tr>\n",
       "      <th>count</th>\n",
       "      <td>168.000000</td>\n",
       "    </tr>\n",
       "    <tr>\n",
       "      <th>mean</th>\n",
       "      <td>197.148810</td>\n",
       "    </tr>\n",
       "    <tr>\n",
       "      <th>std</th>\n",
       "      <td>97.376892</td>\n",
       "    </tr>\n",
       "    <tr>\n",
       "      <th>min</th>\n",
       "      <td>52.000000</td>\n",
       "    </tr>\n",
       "    <tr>\n",
       "      <th>25%</th>\n",
       "      <td>124.750000</td>\n",
       "    </tr>\n",
       "    <tr>\n",
       "      <th>50%</th>\n",
       "      <td>179.500000</td>\n",
       "    </tr>\n",
       "    <tr>\n",
       "      <th>75%</th>\n",
       "      <td>263.250000</td>\n",
       "    </tr>\n",
       "    <tr>\n",
       "      <th>max</th>\n",
       "      <td>443.000000</td>\n",
       "    </tr>\n",
       "  </tbody>\n",
       "</table>\n",
       "</div>"
      ],
      "text/plain": [
       "       Order Req Amt (Ton)\n",
       "count           168.000000\n",
       "mean            197.148810\n",
       "std              97.376892\n",
       "min              52.000000\n",
       "25%             124.750000\n",
       "50%             179.500000\n",
       "75%             263.250000\n",
       "max             443.000000"
      ]
     },
     "execution_count": 19,
     "metadata": {},
     "output_type": "execute_result"
    }
   ],
   "source": [
    "X.describe()"
   ]
  },
  {
   "cell_type": "code",
   "execution_count": 20,
   "metadata": {},
   "outputs": [
    {
     "name": "stdout",
     "output_type": "stream",
     "text": [
      "<class 'pandas.core.frame.DataFrame'>\n",
      "RangeIndex: 168 entries, 0 to 167\n",
      "Data columns (total 2 columns):\n",
      " #   Column               Non-Null Count  Dtype \n",
      "---  ------               --------------  ----- \n",
      " 0   Customer Location    168 non-null    object\n",
      " 1   Order Req Amt (Ton)  168 non-null    int64 \n",
      "dtypes: int64(1), object(1)\n",
      "memory usage: 2.8+ KB\n"
     ]
    }
   ],
   "source": [
    "X.info()"
   ]
  },
  {
   "cell_type": "markdown",
   "metadata": {},
   "source": [
    "##### Preprocessing on train data and test data"
   ]
  },
  {
   "cell_type": "code",
   "execution_count": 21,
   "metadata": {},
   "outputs": [],
   "source": [
    "# import the train-test split\n",
    "\n",
    "from sklearn.model_selection import train_test_split\n",
    "\n",
    "# divide into train and test sets\n",
    "df1_trainX, df1_testX, df1_trainY, df1_testY = train_test_split(X,y, train_size = 0.8)\n",
    "\n",
    "# converting nominal variables into dummy variables\n",
    "pf = pd.get_dummies(df1_trainX['Customer Location'], prefix='Customer Location')\n",
    "df1_trainX = pd.concat([df1_trainX, pf],axis=1)\n",
    "\n",
    "\n",
    "# converting nominal variables into dummy variables\n",
    "pf = pd.get_dummies(df1_testX['Customer Location'], prefix='Customer Location')\n",
    "df1_testX = pd.concat([df1_testX, pf],axis=1)\n",
    "\n",
    "df1_trainX.drop(['Customer Location'], axis=1, inplace=True)\n",
    "\n",
    "df1_testX.drop(['Customer Location'], axis=1, inplace=True)\n"
   ]
  },
  {
   "cell_type": "code",
   "execution_count": 22,
   "metadata": {},
   "outputs": [
    {
     "data": {
      "text/plain": [
       "((134, 4), (134,), (34, 4), (34,))"
      ]
     },
     "execution_count": 22,
     "metadata": {},
     "output_type": "execute_result"
    }
   ],
   "source": [
    "df1_trainX.shape, df1_trainY.shape, df1_testX.shape, df1_testY.shape"
   ]
  },
  {
   "cell_type": "code",
   "execution_count": 23,
   "metadata": {},
   "outputs": [
    {
     "data": {
      "image/png": "[encoded data removed]",
      "text/plain": [
       "<Figure size 1224x720 with 2 Axes>"
      ]
     },
     "metadata": {
      "needs_background": "light"
     },
     "output_type": "display_data"
    }
   ],
   "source": [
    "# Correlation matrix\n",
    "plt.figure(figsize=(17,10))\n",
    "sns.heatmap(df1_trainX.corr(method='spearman').round(2),linewidth = 0.5,annot=True,cmap=\"YlGnBu\")\n",
    "plt.show()"
   ]
  },
  {
   "cell_type": "code",
   "execution_count": 24,
   "metadata": {},
   "outputs": [
    {
     "data": {
      "text/html": [
       "<div>\n",
       "<style scoped>\n",
       "    .dataframe tbody tr th:only-of-type {\n",
       "        vertical-align: middle;\n",
       "    }\n",
       "\n",
       "    .dataframe tbody tr th {\n",
       "        vertical-align: top;\n",
       "    }\n",
       "\n",
       "    .dataframe thead th {\n",
       "        text-align: right;\n",
       "    }\n",
       "</style>\n",
       "<table border=\"1\" class=\"dataframe\">\n",
       "  <thead>\n",
       "    <tr style=\"text-align: right;\">\n",
       "      <th></th>\n",
       "      <th>Order Req Amt (Ton)</th>\n",
       "      <th>Customer Location_Chicago</th>\n",
       "      <th>Customer Location_Cincinatti</th>\n",
       "      <th>Customer Location_St Louis</th>\n",
       "    </tr>\n",
       "  </thead>\n",
       "  <tbody>\n",
       "    <tr>\n",
       "      <th>4</th>\n",
       "      <td>154</td>\n",
       "      <td>1</td>\n",
       "      <td>0</td>\n",
       "      <td>0</td>\n",
       "    </tr>\n",
       "    <tr>\n",
       "      <th>54</th>\n",
       "      <td>130</td>\n",
       "      <td>0</td>\n",
       "      <td>0</td>\n",
       "      <td>1</td>\n",
       "    </tr>\n",
       "    <tr>\n",
       "      <th>16</th>\n",
       "      <td>347</td>\n",
       "      <td>0</td>\n",
       "      <td>1</td>\n",
       "      <td>0</td>\n",
       "    </tr>\n",
       "    <tr>\n",
       "      <th>73</th>\n",
       "      <td>170</td>\n",
       "      <td>1</td>\n",
       "      <td>0</td>\n",
       "      <td>0</td>\n",
       "    </tr>\n",
       "    <tr>\n",
       "      <th>81</th>\n",
       "      <td>392</td>\n",
       "      <td>0</td>\n",
       "      <td>1</td>\n",
       "      <td>0</td>\n",
       "    </tr>\n",
       "  </tbody>\n",
       "</table>\n",
       "</div>"
      ],
      "text/plain": [
       "    Order Req Amt (Ton)  Customer Location_Chicago  \\\n",
       "4                   154                          1   \n",
       "54                  130                          0   \n",
       "16                  347                          0   \n",
       "73                  170                          1   \n",
       "81                  392                          0   \n",
       "\n",
       "    Customer Location_Cincinatti  Customer Location_St Louis  \n",
       "4                              0                           0  \n",
       "54                             0                           1  \n",
       "16                             1                           0  \n",
       "73                             0                           0  \n",
       "81                             1                           0  "
      ]
     },
     "execution_count": 24,
     "metadata": {},
     "output_type": "execute_result"
    }
   ],
   "source": [
    "train_dt1_x = df1_trainX.copy()\n",
    "train_dt1_x.head()"
   ]
  },
  {
   "cell_type": "code",
   "execution_count": 25,
   "metadata": {},
   "outputs": [
    {
     "data": {
      "text/plain": [
       "4     19f4a11d-63ca-4127-975a-15933aaa33ff\n",
       "54    cf9651b0-df49-498f-a66c-0a7f897545ce\n",
       "16    19f4a11d-63ca-4127-975a-15933aaa33ff\n",
       "73    cf9651b0-df49-498f-a66c-0a7f897545ce\n",
       "81    19f4a11d-63ca-4127-975a-15933aaa33ff\n",
       "Name: Fullfilled By ID, dtype: object"
      ]
     },
     "execution_count": 25,
     "metadata": {},
     "output_type": "execute_result"
    }
   ],
   "source": [
    "train_dt1_y = df1_trainY.copy()\n",
    "train_dt1_y.head()"
   ]
  },
  {
   "cell_type": "markdown",
   "metadata": {},
   "source": [
    "#### Step II: Model Building\n",
    "    \n",
    "I. Decision Tree\n",
    "\n",
    "\n",
    "Decision tree is a type of supervised learning algorithm (having a predefined target variable) that is mostly used in classification problems. It works for both categorical and continuous input and output variables. \n",
    "\n",
    "In this technique, we split the population or sample into two or more homogeneous sets (or sub-populations) based on most significant splitter / differentiator in input variables.\n",
    "A decision tree is a flowchart-like tree structure where an internal node represents feature(or attribute), the branch represents a decision rule, and each leaf node represents the outcome. \n",
    "\n",
    "The topmost node in a decision tree is known as the root node. \n",
    "\n",
    "It learns to partition on the basis of the attribute value. It partitions the tree in recursively manner call recursive partitioning.\n",
    "\n",
    "This flowchart-like structure helps you in decision making. \n",
    "\n",
    "It's visualization like a flowchart diagram which easily mimics the human level thinking. That is why decision trees are easy to understand and interpret.\n",
    "Decision Tree is a white box type of ML algorithm. \n",
    "\n",
    "It shares internal decision-making logic, which is not available in the black box type of algorithms such as Neural Network.\n",
    "Its training time is faster compared to the neural network algorithm. \n",
    "\n",
    "The time complexity of decision trees is a function of the number of records and number of attributes in the given data.\n",
    "The decision tree is a distribution-free or non-parametric method, which does not depend upon probability distribution assumptions. \n",
    "\n",
    "Decision trees can handle high dimensional data with good accuracy.\n",
    "\n",
    "How does the Decision Tree algorithm work?\n",
    "\n",
    "The basic idea behind any decision tree algorithm is as follows:\n",
    "\n",
    "Select the best attribute using Attribute Selection Measures(ASM) to split the records.\n",
    "Make that attribute a decision node and breaks the dataset into smaller subsets.\n",
    "\n",
    "Starts tree building by repeating this process recursively for each child until one of the condition will match:\n",
    "All the tuples belong to the same attribute value.\n",
    "There are no more remaining attributes.\n",
    "There are no more instances.\n"
   ]
  },
  {
   "cell_type": "markdown",
   "metadata": {},
   "source": [
    "##### Building the model "
   ]
  },
  {
   "cell_type": "code",
   "execution_count": 26,
   "metadata": {},
   "outputs": [
    {
     "name": "stdout",
     "output_type": "stream",
     "text": [
      "Depth of the Decision Tree:  13\n",
      "Accuracy on training:  0.9477611940298507\n",
      "-------The confusion matrix for this model is-------\n",
      "[[39  1  3]\n",
      " [ 1 48  1]\n",
      " [ 1  0 40]]\n",
      "\n",
      "\n",
      "-------Printing the whole report of the model-------\n",
      "                                      precision    recall  f1-score   support\n",
      "\n",
      "19f4a11d-63ca-4127-975a-15933aaa33ff       0.91      0.98      0.94        41\n",
      "ae5d7b77-86c9-49d2-ac18-09bf9883adc2       0.98      0.96      0.97        50\n",
      "cf9651b0-df49-498f-a66c-0a7f897545ce       0.95      0.91      0.93        43\n",
      "\n",
      "                            accuracy                           0.95       134\n",
      "                           macro avg       0.95      0.95      0.95       134\n",
      "                        weighted avg       0.95      0.95      0.95       134\n",
      "\n"
     ]
    }
   ],
   "source": [
    "# importing decision tree classifier \n",
    "from sklearn.tree import DecisionTreeClassifier\n",
    "\n",
    "# creating the decision tree function\n",
    "model_dt1 = DecisionTreeClassifier(criterion='gini')\n",
    "\n",
    "#fitting the model\n",
    "model_dt1.fit(train_dt1_x, train_dt1_y)\n",
    "\n",
    "# depth of the decision tree\n",
    "print('Depth of the Decision Tree: ', model_dt1.get_depth())\n",
    "\n",
    "#checking the training score\n",
    "print('Accuracy on training: ',model_dt1.score(train_dt1_x, train_dt1_y))\n",
    "\n",
    "# predict the target on the train dataset\n",
    "yhat1 = model_dt1.predict(train_dt1_x)\n",
    "\n",
    "from sklearn.metrics import confusion_matrix\n",
    "cm1 = confusion_matrix(train_dt1_y.values, yhat1, labels=[\"cf9651b0-df49-498f-a66c-0a7f897545ce\",\"ae5d7b77-86c9-49d2-ac18-09bf9883adc2\",\"19f4a11d-63ca-4127-975a-15933aaa33ff\"])\n",
    "print('-------The confusion matrix for this model is-------')\n",
    "print(cm1)\n",
    "\n",
    "from sklearn.metrics import classification_report\n",
    "print('\\n\\n-------Printing the whole report of the model-------')\n",
    "print(classification_report(train_dt1_y.values, yhat1))\n"
   ]
  },
  {
   "cell_type": "code",
   "execution_count": 27,
   "metadata": {},
   "outputs": [],
   "source": [
    "X1 = train_dt1_x.copy()\n",
    "y1 = pd.DataFrame({'Seg':train_dt1_y})\n",
    "y1['Seg'] = y1['Seg'].replace(('19f4a11d-63ca-4127-975a-15933aaa33ff','ae5d7b77-86c9-49d2-ac18-09bf9883adc2','cf9651b0-df49-498f-a66c-0a7f897545ce'),(1,2,3))"
   ]
  },
  {
   "cell_type": "code",
   "execution_count": 28,
   "metadata": {},
   "outputs": [
    {
     "name": "stdout",
     "output_type": "stream",
     "text": [
      "{'max_depth': 12, 'max_features': 0.7}\n"
     ]
    }
   ],
   "source": [
    "# Implementing grid search\n",
    "\n",
    "parameter_grid = {\n",
    "    'max_depth' : [9,10,11,12,13,14,15],\n",
    "    'max_features': [0.3, 0.5, 0.7]\n",
    "    }\n",
    "\n",
    "from sklearn.model_selection import GridSearchCV\n",
    "gridsearch = GridSearchCV(estimator=model_dt1, param_grid=parameter_grid, scoring='neg_mean_squared_error', cv=5)\n",
    "\n",
    "gridsearch.fit(X1, y1)\n",
    "\n",
    "print(gridsearch.best_params_)"
   ]
  },
  {
   "cell_type": "code",
   "execution_count": 29,
   "metadata": {},
   "outputs": [
    {
     "name": "stdout",
     "output_type": "stream",
     "text": [
      "{'max_features': 0.3, 'max_depth': 11}\n"
     ]
    }
   ],
   "source": [
    "# Implementing random search\n",
    "\n",
    "parameter_grid = {\n",
    "    'max_depth' : [9,10,11,12,13,14,15],\n",
    "    'max_features': [0.3, 0.5, 0.7, 0.9]\n",
    "    }\n",
    "\n",
    "from sklearn.model_selection import RandomizedSearchCV\n",
    "\n",
    "randomsearch = RandomizedSearchCV(estimator=model_dt1, param_distributions=parameter_grid, n_iter= 10, cv=5)\n",
    "randomsearch.fit(X1, y1)\n",
    "\n",
    "print(randomsearch.best_params_)"
   ]
  },
  {
   "cell_type": "code",
   "execution_count": 30,
   "metadata": {},
   "outputs": [
    {
     "name": "stdout",
     "output_type": "stream",
     "text": [
      "0.9403\n"
     ]
    }
   ],
   "source": [
    "# final model\n",
    "model_dt1 = DecisionTreeClassifier(max_depth=13, max_features=0.7)\n",
    "\n",
    "# fitting the model\n",
    "model_dt1.fit(train_dt1_x, train_dt1_y)\n",
    "\n",
    "# Training score\n",
    "print(model_dt1.score(train_dt1_x, train_dt1_y).round(4))"
   ]
  },
  {
   "cell_type": "code",
   "execution_count": 31,
   "metadata": {},
   "outputs": [
    {
     "data": {
      "image/png": "[encoded data removed]",
      "text/plain": [
       "<Figure size 1800x1440 with 1 Axes>"
      ]
     },
     "metadata": {
      "needs_background": "light"
     },
     "output_type": "display_data"
    }
   ],
   "source": [
    "from sklearn import tree\n",
    "\n",
    "fig = plt.figure(figsize=(25,20))\n",
    "_ = tree.plot_tree(model_dt1, feature_names=train_dt1_x.columns, max_depth=2, filled=True)"
   ]
  },
  {
   "cell_type": "code",
   "execution_count": 32,
   "metadata": {},
   "outputs": [
    {
     "data": {
      "text/html": [
       "<div>\n",
       "<style scoped>\n",
       "    .dataframe tbody tr th:only-of-type {\n",
       "        vertical-align: middle;\n",
       "    }\n",
       "\n",
       "    .dataframe tbody tr th {\n",
       "        vertical-align: top;\n",
       "    }\n",
       "\n",
       "    .dataframe thead th {\n",
       "        text-align: right;\n",
       "    }\n",
       "</style>\n",
       "<table border=\"1\" class=\"dataframe\">\n",
       "  <thead>\n",
       "    <tr style=\"text-align: right;\">\n",
       "      <th></th>\n",
       "      <th>Order Req Amt (Ton)</th>\n",
       "      <th>Customer Location_Chicago</th>\n",
       "      <th>Customer Location_Cincinatti</th>\n",
       "      <th>Customer Location_St Louis</th>\n",
       "    </tr>\n",
       "  </thead>\n",
       "  <tbody>\n",
       "    <tr>\n",
       "      <th>133</th>\n",
       "      <td>275</td>\n",
       "      <td>1</td>\n",
       "      <td>0</td>\n",
       "      <td>0</td>\n",
       "    </tr>\n",
       "    <tr>\n",
       "      <th>14</th>\n",
       "      <td>275</td>\n",
       "      <td>1</td>\n",
       "      <td>0</td>\n",
       "      <td>0</td>\n",
       "    </tr>\n",
       "    <tr>\n",
       "      <th>112</th>\n",
       "      <td>260</td>\n",
       "      <td>0</td>\n",
       "      <td>1</td>\n",
       "      <td>0</td>\n",
       "    </tr>\n",
       "    <tr>\n",
       "      <th>115</th>\n",
       "      <td>96</td>\n",
       "      <td>0</td>\n",
       "      <td>0</td>\n",
       "      <td>1</td>\n",
       "    </tr>\n",
       "    <tr>\n",
       "      <th>78</th>\n",
       "      <td>183</td>\n",
       "      <td>0</td>\n",
       "      <td>1</td>\n",
       "      <td>0</td>\n",
       "    </tr>\n",
       "    <tr>\n",
       "      <th>27</th>\n",
       "      <td>201</td>\n",
       "      <td>1</td>\n",
       "      <td>0</td>\n",
       "      <td>0</td>\n",
       "    </tr>\n",
       "    <tr>\n",
       "      <th>100</th>\n",
       "      <td>118</td>\n",
       "      <td>0</td>\n",
       "      <td>0</td>\n",
       "      <td>1</td>\n",
       "    </tr>\n",
       "    <tr>\n",
       "      <th>66</th>\n",
       "      <td>404</td>\n",
       "      <td>0</td>\n",
       "      <td>1</td>\n",
       "      <td>0</td>\n",
       "    </tr>\n",
       "    <tr>\n",
       "      <th>52</th>\n",
       "      <td>62</td>\n",
       "      <td>0</td>\n",
       "      <td>0</td>\n",
       "      <td>1</td>\n",
       "    </tr>\n",
       "    <tr>\n",
       "      <th>113</th>\n",
       "      <td>108</td>\n",
       "      <td>0</td>\n",
       "      <td>0</td>\n",
       "      <td>1</td>\n",
       "    </tr>\n",
       "    <tr>\n",
       "      <th>3</th>\n",
       "      <td>188</td>\n",
       "      <td>0</td>\n",
       "      <td>1</td>\n",
       "      <td>0</td>\n",
       "    </tr>\n",
       "    <tr>\n",
       "      <th>88</th>\n",
       "      <td>160</td>\n",
       "      <td>1</td>\n",
       "      <td>0</td>\n",
       "      <td>0</td>\n",
       "    </tr>\n",
       "    <tr>\n",
       "      <th>98</th>\n",
       "      <td>204</td>\n",
       "      <td>1</td>\n",
       "      <td>0</td>\n",
       "      <td>0</td>\n",
       "    </tr>\n",
       "    <tr>\n",
       "      <th>144</th>\n",
       "      <td>208</td>\n",
       "      <td>0</td>\n",
       "      <td>1</td>\n",
       "      <td>0</td>\n",
       "    </tr>\n",
       "    <tr>\n",
       "      <th>117</th>\n",
       "      <td>278</td>\n",
       "      <td>1</td>\n",
       "      <td>0</td>\n",
       "      <td>0</td>\n",
       "    </tr>\n",
       "    <tr>\n",
       "      <th>111</th>\n",
       "      <td>216</td>\n",
       "      <td>1</td>\n",
       "      <td>0</td>\n",
       "      <td>0</td>\n",
       "    </tr>\n",
       "    <tr>\n",
       "      <th>22</th>\n",
       "      <td>249</td>\n",
       "      <td>1</td>\n",
       "      <td>0</td>\n",
       "      <td>0</td>\n",
       "    </tr>\n",
       "    <tr>\n",
       "      <th>138</th>\n",
       "      <td>104</td>\n",
       "      <td>0</td>\n",
       "      <td>0</td>\n",
       "      <td>1</td>\n",
       "    </tr>\n",
       "    <tr>\n",
       "      <th>122</th>\n",
       "      <td>241</td>\n",
       "      <td>0</td>\n",
       "      <td>1</td>\n",
       "      <td>0</td>\n",
       "    </tr>\n",
       "    <tr>\n",
       "      <th>148</th>\n",
       "      <td>105</td>\n",
       "      <td>1</td>\n",
       "      <td>0</td>\n",
       "      <td>0</td>\n",
       "    </tr>\n",
       "    <tr>\n",
       "      <th>41</th>\n",
       "      <td>186</td>\n",
       "      <td>1</td>\n",
       "      <td>0</td>\n",
       "      <td>0</td>\n",
       "    </tr>\n",
       "    <tr>\n",
       "      <th>166</th>\n",
       "      <td>132</td>\n",
       "      <td>0</td>\n",
       "      <td>0</td>\n",
       "      <td>1</td>\n",
       "    </tr>\n",
       "    <tr>\n",
       "      <th>94</th>\n",
       "      <td>280</td>\n",
       "      <td>0</td>\n",
       "      <td>1</td>\n",
       "      <td>0</td>\n",
       "    </tr>\n",
       "    <tr>\n",
       "      <th>147</th>\n",
       "      <td>164</td>\n",
       "      <td>0</td>\n",
       "      <td>1</td>\n",
       "      <td>0</td>\n",
       "    </tr>\n",
       "    <tr>\n",
       "      <th>24</th>\n",
       "      <td>157</td>\n",
       "      <td>0</td>\n",
       "      <td>1</td>\n",
       "      <td>0</td>\n",
       "    </tr>\n",
       "    <tr>\n",
       "      <th>20</th>\n",
       "      <td>138</td>\n",
       "      <td>0</td>\n",
       "      <td>0</td>\n",
       "      <td>1</td>\n",
       "    </tr>\n",
       "    <tr>\n",
       "      <th>163</th>\n",
       "      <td>136</td>\n",
       "      <td>1</td>\n",
       "      <td>0</td>\n",
       "      <td>0</td>\n",
       "    </tr>\n",
       "    <tr>\n",
       "      <th>119</th>\n",
       "      <td>359</td>\n",
       "      <td>0</td>\n",
       "      <td>1</td>\n",
       "      <td>0</td>\n",
       "    </tr>\n",
       "    <tr>\n",
       "      <th>13</th>\n",
       "      <td>294</td>\n",
       "      <td>0</td>\n",
       "      <td>1</td>\n",
       "      <td>0</td>\n",
       "    </tr>\n",
       "    <tr>\n",
       "      <th>121</th>\n",
       "      <td>72</td>\n",
       "      <td>0</td>\n",
       "      <td>0</td>\n",
       "      <td>1</td>\n",
       "    </tr>\n",
       "    <tr>\n",
       "      <th>89</th>\n",
       "      <td>342</td>\n",
       "      <td>0</td>\n",
       "      <td>1</td>\n",
       "      <td>0</td>\n",
       "    </tr>\n",
       "    <tr>\n",
       "      <th>143</th>\n",
       "      <td>376</td>\n",
       "      <td>0</td>\n",
       "      <td>1</td>\n",
       "      <td>0</td>\n",
       "    </tr>\n",
       "    <tr>\n",
       "      <th>107</th>\n",
       "      <td>232</td>\n",
       "      <td>1</td>\n",
       "      <td>0</td>\n",
       "      <td>0</td>\n",
       "    </tr>\n",
       "    <tr>\n",
       "      <th>160</th>\n",
       "      <td>86</td>\n",
       "      <td>0</td>\n",
       "      <td>0</td>\n",
       "      <td>1</td>\n",
       "    </tr>\n",
       "  </tbody>\n",
       "</table>\n",
       "</div>"
      ],
      "text/plain": [
       "     Order Req Amt (Ton)  Customer Location_Chicago  \\\n",
       "133                  275                          1   \n",
       "14                   275                          1   \n",
       "112                  260                          0   \n",
       "115                   96                          0   \n",
       "78                   183                          0   \n",
       "27                   201                          1   \n",
       "100                  118                          0   \n",
       "66                   404                          0   \n",
       "52                    62                          0   \n",
       "113                  108                          0   \n",
       "3                    188                          0   \n",
       "88                   160                          1   \n",
       "98                   204                          1   \n",
       "144                  208                          0   \n",
       "117                  278                          1   \n",
       "111                  216                          1   \n",
       "22                   249                          1   \n",
       "138                  104                          0   \n",
       "122                  241                          0   \n",
       "148                  105                          1   \n",
       "41                   186                          1   \n",
       "166                  132                          0   \n",
       "94                   280                          0   \n",
       "147                  164                          0   \n",
       "24                   157                          0   \n",
       "20                   138                          0   \n",
       "163                  136                          1   \n",
       "119                  359                          0   \n",
       "13                   294                          0   \n",
       "121                   72                          0   \n",
       "89                   342                          0   \n",
       "143                  376                          0   \n",
       "107                  232                          1   \n",
       "160                   86                          0   \n",
       "\n",
       "     Customer Location_Cincinatti  Customer Location_St Louis  \n",
       "133                             0                           0  \n",
       "14                              0                           0  \n",
       "112                             1                           0  \n",
       "115                             0                           1  \n",
       "78                              1                           0  \n",
       "27                              0                           0  \n",
       "100                             0                           1  \n",
       "66                              1                           0  \n",
       "52                              0                           1  \n",
       "113                             0                           1  \n",
       "3                               1                           0  \n",
       "88                              0                           0  \n",
       "98                              0                           0  \n",
       "144                             1                           0  \n",
       "117                             0                           0  \n",
       "111                             0                           0  \n",
       "22                              0                           0  \n",
       "138                             0                           1  \n",
       "122                             1                           0  \n",
       "148                             0                           0  \n",
       "41                              0                           0  \n",
       "166                             0                           1  \n",
       "94                              1                           0  \n",
       "147                             1                           0  \n",
       "24                              1                           0  \n",
       "20                              0                           1  \n",
       "163                             0                           0  \n",
       "119                             1                           0  \n",
       "13                              1                           0  \n",
       "121                             0                           1  \n",
       "89                              1                           0  \n",
       "143                             1                           0  \n",
       "107                             0                           0  \n",
       "160                             0                           1  "
      ]
     },
     "execution_count": 32,
     "metadata": {},
     "output_type": "execute_result"
    }
   ],
   "source": [
    "test_dt1_x = df1_testX.copy()\n",
    "test_dt1_x"
   ]
  },
  {
   "cell_type": "code",
   "execution_count": 33,
   "metadata": {},
   "outputs": [
    {
     "data": {
      "text/plain": [
       "133    19f4a11d-63ca-4127-975a-15933aaa33ff\n",
       "14     19f4a11d-63ca-4127-975a-15933aaa33ff\n",
       "112    ae5d7b77-86c9-49d2-ac18-09bf9883adc2\n",
       "115    cf9651b0-df49-498f-a66c-0a7f897545ce\n",
       "78     19f4a11d-63ca-4127-975a-15933aaa33ff\n",
       "Name: Fullfilled By ID, dtype: object"
      ]
     },
     "execution_count": 33,
     "metadata": {},
     "output_type": "execute_result"
    }
   ],
   "source": [
    "test_dt1_y = df1_testY.copy()\n",
    "test_dt1_y.head()"
   ]
  },
  {
   "cell_type": "code",
   "execution_count": 34,
   "metadata": {},
   "outputs": [
    {
     "data": {
      "text/plain": [
       "array(['ae5d7b77-86c9-49d2-ac18-09bf9883adc2',\n",
       "       'ae5d7b77-86c9-49d2-ac18-09bf9883adc2',\n",
       "       'ae5d7b77-86c9-49d2-ac18-09bf9883adc2',\n",
       "       'cf9651b0-df49-498f-a66c-0a7f897545ce',\n",
       "       'cf9651b0-df49-498f-a66c-0a7f897545ce',\n",
       "       'ae5d7b77-86c9-49d2-ac18-09bf9883adc2',\n",
       "       'cf9651b0-df49-498f-a66c-0a7f897545ce',\n",
       "       '19f4a11d-63ca-4127-975a-15933aaa33ff',\n",
       "       'cf9651b0-df49-498f-a66c-0a7f897545ce',\n",
       "       'cf9651b0-df49-498f-a66c-0a7f897545ce',\n",
       "       'ae5d7b77-86c9-49d2-ac18-09bf9883adc2',\n",
       "       'cf9651b0-df49-498f-a66c-0a7f897545ce',\n",
       "       'ae5d7b77-86c9-49d2-ac18-09bf9883adc2',\n",
       "       '19f4a11d-63ca-4127-975a-15933aaa33ff',\n",
       "       'ae5d7b77-86c9-49d2-ac18-09bf9883adc2',\n",
       "       'cf9651b0-df49-498f-a66c-0a7f897545ce',\n",
       "       'ae5d7b77-86c9-49d2-ac18-09bf9883adc2',\n",
       "       'ae5d7b77-86c9-49d2-ac18-09bf9883adc2',\n",
       "       '19f4a11d-63ca-4127-975a-15933aaa33ff',\n",
       "       'cf9651b0-df49-498f-a66c-0a7f897545ce',\n",
       "       'cf9651b0-df49-498f-a66c-0a7f897545ce',\n",
       "       '19f4a11d-63ca-4127-975a-15933aaa33ff',\n",
       "       'ae5d7b77-86c9-49d2-ac18-09bf9883adc2',\n",
       "       '19f4a11d-63ca-4127-975a-15933aaa33ff',\n",
       "       '19f4a11d-63ca-4127-975a-15933aaa33ff',\n",
       "       'cf9651b0-df49-498f-a66c-0a7f897545ce',\n",
       "       '19f4a11d-63ca-4127-975a-15933aaa33ff',\n",
       "       '19f4a11d-63ca-4127-975a-15933aaa33ff',\n",
       "       '19f4a11d-63ca-4127-975a-15933aaa33ff',\n",
       "       'cf9651b0-df49-498f-a66c-0a7f897545ce',\n",
       "       '19f4a11d-63ca-4127-975a-15933aaa33ff',\n",
       "       '19f4a11d-63ca-4127-975a-15933aaa33ff',\n",
       "       'ae5d7b77-86c9-49d2-ac18-09bf9883adc2',\n",
       "       '19f4a11d-63ca-4127-975a-15933aaa33ff'], dtype=object)"
      ]
     },
     "execution_count": 34,
     "metadata": {},
     "output_type": "execute_result"
    }
   ],
   "source": [
    "y_dt1 = model_dt1.predict(test_dt1_x)\n",
    "y_dt1"
   ]
  },
  {
   "cell_type": "code",
   "execution_count": 35,
   "metadata": {},
   "outputs": [
    {
     "name": "stdout",
     "output_type": "stream",
     "text": [
      "-------The confusion matrix for test data is-------\n",
      "\n",
      "[[6 2 3]\n",
      " [1 4 3]\n",
      " [4 5 6]]\n",
      "\n",
      "\n",
      "-------Printing the report of test data-------\n",
      "\n",
      "                                      precision    recall  f1-score   support\n",
      "\n",
      "19f4a11d-63ca-4127-975a-15933aaa33ff       0.50      0.40      0.44        15\n",
      "ae5d7b77-86c9-49d2-ac18-09bf9883adc2       0.36      0.50      0.42         8\n",
      "cf9651b0-df49-498f-a66c-0a7f897545ce       0.55      0.55      0.55        11\n",
      "\n",
      "                            accuracy                           0.47        34\n",
      "                           macro avg       0.47      0.48      0.47        34\n",
      "                        weighted avg       0.48      0.47      0.47        34\n",
      "\n"
     ]
    }
   ],
   "source": [
    "from sklearn.metrics import confusion_matrix\n",
    "print('-------The confusion matrix for test data is-------\\n')\n",
    "print(confusion_matrix(test_dt1_y.values, y_dt1, labels=[\"cf9651b0-df49-498f-a66c-0a7f897545ce\",\"ae5d7b77-86c9-49d2-ac18-09bf9883adc2\",\"19f4a11d-63ca-4127-975a-15933aaa33ff\"]))\n",
    "\n",
    "from sklearn.metrics import classification_report\n",
    "print('\\n\\n-------Printing the report of test data-------\\n')\n",
    "print(classification_report(test_dt1_y.values, y_dt1))"
   ]
  },
  {
   "cell_type": "code",
   "execution_count": 36,
   "metadata": {},
   "outputs": [],
   "source": [
    "#serializing our model to a file called model.pkl\n",
    "import pickle\n",
    "    \n",
    "pickle.dump(model_dt1, open(\"dtmodel.pkl\",\"wb\"))"
   ]
  },
  {
   "cell_type": "code",
   "execution_count": 38,
   "metadata": {},
   "outputs": [
    {
     "data": {
      "text/plain": [
       "array(['ae5d7b77-86c9-49d2-ac18-09bf9883adc2'], dtype=object)"
      ]
     },
     "execution_count": 38,
     "metadata": {},
     "output_type": "execute_result"
    }
   ],
   "source": [
    "test = model_dt1.predict(test_dt1_x.iloc[1:2]) \n",
    "test"
   ]
  },
  {
   "cell_type": "code",
   "execution_count": 39,
   "metadata": {},
   "outputs": [
    {
     "name": "stdout",
     "output_type": "stream",
     "text": [
      "************************  MODEL - Decision Tree REPORT  *********************************\n",
      "\n",
      "Train data\n",
      "                                      precision    recall  f1-score   support\n",
      "\n",
      "19f4a11d-63ca-4127-975a-15933aaa33ff       0.91      0.98      0.94        41\n",
      "ae5d7b77-86c9-49d2-ac18-09bf9883adc2       0.98      0.96      0.97        50\n",
      "cf9651b0-df49-498f-a66c-0a7f897545ce       0.95      0.91      0.93        43\n",
      "\n",
      "                            accuracy                           0.95       134\n",
      "                           macro avg       0.95      0.95      0.95       134\n",
      "                        weighted avg       0.95      0.95      0.95       134\n",
      "\n",
      "\n",
      "Test data\n",
      "                                      precision    recall  f1-score   support\n",
      "\n",
      "19f4a11d-63ca-4127-975a-15933aaa33ff       0.50      0.40      0.44        15\n",
      "ae5d7b77-86c9-49d2-ac18-09bf9883adc2       0.36      0.50      0.42         8\n",
      "cf9651b0-df49-498f-a66c-0a7f897545ce       0.55      0.55      0.55        11\n",
      "\n",
      "                            accuracy                           0.47        34\n",
      "                           macro avg       0.47      0.48      0.47        34\n",
      "                        weighted avg       0.48      0.47      0.47        34\n",
      "\n"
     ]
    }
   ],
   "source": [
    "print('************************  MODEL - Decision Tree REPORT  *********************************\\n')\n",
    "print('Train data')\n",
    "print(classification_report(train_dt1_y.values, yhat1))\n",
    "print('\\nTest data')\n",
    "print(classification_report(test_dt1_y.values, y_dt1))"
   ]
  },
  {
   "cell_type": "code",
   "execution_count": 41,
   "metadata": {},
   "outputs": [],
   "source": [
    "import joblib\n",
    "\n",
    "joblib.dump(model_dt1, \"dtreemodel.pkl\")\n",
    "\n",
    "my_model_loaded  = joblib.load(\"dtreemodel.pkl\")"
   ]
  },
  {
   "cell_type": "code",
   "execution_count": 42,
   "metadata": {},
   "outputs": [
    {
     "data": {
      "text/plain": [
       "19f4a11d-63ca-4127-975a-15933aaa33ff    12\n",
       "cf9651b0-df49-498f-a66c-0a7f897545ce    11\n",
       "ae5d7b77-86c9-49d2-ac18-09bf9883adc2    11\n",
       "dtype: int64"
      ]
     },
     "execution_count": 42,
     "metadata": {},
     "output_type": "execute_result"
    }
   ],
   "source": [
    "pd.Series(y_dt1).value_counts()"
   ]
  },
  {
   "cell_type": "markdown",
   "metadata": {},
   "source": [
    "#### IV. Random Forest¶\n",
    "\n",
    "Random forest is a supervised learning algorithm. It has two variations – one is used for classification problems and other is used for regression problems. \n",
    "It is one of the most flexible and easy to use algorithm. It creates decision trees on the given data samples, gets prediction from each tree and selects the best solution by means of voting. \n",
    "It is also a pretty good indicator of feature importance.\n",
    "Random forest algorithm combines multiple decision-trees, resulting in a forest of trees, hence the name Random Forest. In the random forest classifier, the higher the number of trees in the forest results in higher accuracy.\n",
    "\n",
    "\n",
    "How does the algorithm work?\n",
    "\n",
    "It works in four steps:\n",
    "\n",
    "Select random samples from a given dataset.\n",
    "Construct a decision tree for each sample and get a prediction result from each decision tree.\n",
    "Perform a vote for each predicted result.\n",
    "Select the prediction result with the most votes as the final prediction.\n",
    "\n",
    "Difference between Decision Tree and Random Forest\n",
    "\n",
    "I will compare random forests with decision-trees. \n",
    "Some salient features of comparison are as follows:-\n",
    "Random forests is a set of multiple decision-trees.\n",
    "Decision-trees are computationally faster as compared to random forests.\n",
    "Deep decision-trees may suffer from overfitting. Random forest prevents overfitting by creating trees on random forests.\n",
    "Random forest is difficult to interpret. But, a decision-tree is easily interpretable and can be converted to rules."
   ]
  },
  {
   "cell_type": "markdown",
   "metadata": {},
   "source": [
    "##### Predicting on test set"
   ]
  },
  {
   "cell_type": "code",
   "execution_count": 43,
   "metadata": {},
   "outputs": [
    {
     "data": {
      "text/html": [
       "<div>\n",
       "<style scoped>\n",
       "    .dataframe tbody tr th:only-of-type {\n",
       "        vertical-align: middle;\n",
       "    }\n",
       "\n",
       "    .dataframe tbody tr th {\n",
       "        vertical-align: top;\n",
       "    }\n",
       "\n",
       "    .dataframe thead th {\n",
       "        text-align: right;\n",
       "    }\n",
       "</style>\n",
       "<table border=\"1\" class=\"dataframe\">\n",
       "  <thead>\n",
       "    <tr style=\"text-align: right;\">\n",
       "      <th></th>\n",
       "      <th>Order Req Amt (Ton)</th>\n",
       "      <th>Customer Location_Chicago</th>\n",
       "      <th>Customer Location_Cincinatti</th>\n",
       "      <th>Customer Location_St Louis</th>\n",
       "    </tr>\n",
       "  </thead>\n",
       "  <tbody>\n",
       "    <tr>\n",
       "      <th>4</th>\n",
       "      <td>154</td>\n",
       "      <td>1</td>\n",
       "      <td>0</td>\n",
       "      <td>0</td>\n",
       "    </tr>\n",
       "    <tr>\n",
       "      <th>54</th>\n",
       "      <td>130</td>\n",
       "      <td>0</td>\n",
       "      <td>0</td>\n",
       "      <td>1</td>\n",
       "    </tr>\n",
       "    <tr>\n",
       "      <th>16</th>\n",
       "      <td>347</td>\n",
       "      <td>0</td>\n",
       "      <td>1</td>\n",
       "      <td>0</td>\n",
       "    </tr>\n",
       "    <tr>\n",
       "      <th>73</th>\n",
       "      <td>170</td>\n",
       "      <td>1</td>\n",
       "      <td>0</td>\n",
       "      <td>0</td>\n",
       "    </tr>\n",
       "    <tr>\n",
       "      <th>81</th>\n",
       "      <td>392</td>\n",
       "      <td>0</td>\n",
       "      <td>1</td>\n",
       "      <td>0</td>\n",
       "    </tr>\n",
       "  </tbody>\n",
       "</table>\n",
       "</div>"
      ],
      "text/plain": [
       "    Order Req Amt (Ton)  Customer Location_Chicago  \\\n",
       "4                   154                          1   \n",
       "54                  130                          0   \n",
       "16                  347                          0   \n",
       "73                  170                          1   \n",
       "81                  392                          0   \n",
       "\n",
       "    Customer Location_Cincinatti  Customer Location_St Louis  \n",
       "4                              0                           0  \n",
       "54                             0                           1  \n",
       "16                             1                           0  \n",
       "73                             0                           0  \n",
       "81                             1                           0  "
      ]
     },
     "execution_count": 43,
     "metadata": {},
     "output_type": "execute_result"
    }
   ],
   "source": [
    "train_rf1_x = df1_trainX.copy()\n",
    "train_rf1_x.head()"
   ]
  },
  {
   "cell_type": "code",
   "execution_count": 44,
   "metadata": {},
   "outputs": [
    {
     "data": {
      "text/plain": [
       "4     19f4a11d-63ca-4127-975a-15933aaa33ff\n",
       "54    cf9651b0-df49-498f-a66c-0a7f897545ce\n",
       "16    19f4a11d-63ca-4127-975a-15933aaa33ff\n",
       "73    cf9651b0-df49-498f-a66c-0a7f897545ce\n",
       "81    19f4a11d-63ca-4127-975a-15933aaa33ff\n",
       "Name: Fullfilled By ID, dtype: object"
      ]
     },
     "execution_count": 44,
     "metadata": {},
     "output_type": "execute_result"
    }
   ],
   "source": [
    "train_rf1_y = df1_trainY.copy()\n",
    "train_rf1_y.head()"
   ]
  },
  {
   "cell_type": "code",
   "execution_count": 45,
   "metadata": {},
   "outputs": [
    {
     "name": "stdout",
     "output_type": "stream",
     "text": [
      "The importance of features ranked from high to low:\n",
      " Order Req Amt (Ton)             0.920439\n",
      "Customer Location_St Louis      0.043713\n",
      "Customer Location_Cincinatti    0.020933\n",
      "Customer Location_Chicago       0.014915\n",
      "dtype: float64\n",
      "\n",
      "\n",
      "-------The confusion matrix for this model is-------\n",
      "[[40  1  2]\n",
      " [ 2 47  1]\n",
      " [ 2  2 37]]\n",
      "\n",
      "\n",
      "-------Printing the whole report of the model-------\n",
      "                                      precision    recall  f1-score   support\n",
      "\n",
      "19f4a11d-63ca-4127-975a-15933aaa33ff       0.93      0.90      0.91        41\n",
      "ae5d7b77-86c9-49d2-ac18-09bf9883adc2       0.94      0.94      0.94        50\n",
      "cf9651b0-df49-498f-a66c-0a7f897545ce       0.91      0.93      0.92        43\n",
      "\n",
      "                            accuracy                           0.93       134\n",
      "                           macro avg       0.92      0.92      0.92       134\n",
      "                        weighted avg       0.93      0.93      0.93       134\n",
      "\n"
     ]
    }
   ],
   "source": [
    "# Importing the library\n",
    "from sklearn.ensemble import RandomForestClassifier\n",
    "\n",
    "# Instantiate the classifier with 20 decision tree\n",
    "rfc1 = RandomForestClassifier(random_state=0,n_estimators=20)\n",
    "\n",
    "# Train model\n",
    "model_rfc1 = rfc1.fit(train_rf1_x, train_rf1_y)\n",
    "\n",
    "# Predicting the classes\n",
    "yhat3 = rfc1.predict(train_rf1_x)\n",
    "\n",
    "# view the feature scores\n",
    "feature_scores = pd.Series(rfc1.feature_importances_, index=train_rf1_x.columns).sort_values(ascending=False)\n",
    "print('The importance of features ranked from high to low:\\n',feature_scores)\n",
    "\n",
    "from sklearn.metrics import confusion_matrix\n",
    "cm3 = confusion_matrix(train_rf1_y.values, yhat3, labels=[\"cf9651b0-df49-498f-a66c-0a7f897545ce\",\"ae5d7b77-86c9-49d2-ac18-09bf9883adc2\",\"19f4a11d-63ca-4127-975a-15933aaa33ff\"])\n",
    "print('\\n\\n-------The confusion matrix for this model is-------')\n",
    "print(cm3)\n",
    "\n",
    "from sklearn.metrics import classification_report\n",
    "print('\\n\\n-------Printing the whole report of the model-------')\n",
    "print(classification_report(train_rf1_y.values, yhat3))"
   ]
  },
  {
   "cell_type": "code",
   "execution_count": 46,
   "metadata": {},
   "outputs": [
    {
     "data": {
      "image/png": "[encoded data removed]",
      "text/plain": [
       "<Figure size 720x576 with 1 Axes>"
      ]
     },
     "metadata": {
      "needs_background": "light"
     },
     "output_type": "display_data"
    }
   ],
   "source": [
    "# Creating bar plot of scores of variables importance\n",
    "plt.figure(figsize=(10,8))\n",
    "sns.barplot(x=feature_scores, y=feature_scores.index)\n",
    "plt.xlabel('Feature Importance Score')\n",
    "plt.ylabel('Features')\n",
    "plt.title(\"Visualizing Important Features\")\n",
    "plt.show()"
   ]
  },
  {
   "cell_type": "code",
   "execution_count": 47,
   "metadata": {},
   "outputs": [
    {
     "data": {
      "text/html": [
       "<div>\n",
       "<style scoped>\n",
       "    .dataframe tbody tr th:only-of-type {\n",
       "        vertical-align: middle;\n",
       "    }\n",
       "\n",
       "    .dataframe tbody tr th {\n",
       "        vertical-align: top;\n",
       "    }\n",
       "\n",
       "    .dataframe thead th {\n",
       "        text-align: right;\n",
       "    }\n",
       "</style>\n",
       "<table border=\"1\" class=\"dataframe\">\n",
       "  <thead>\n",
       "    <tr style=\"text-align: right;\">\n",
       "      <th></th>\n",
       "      <th>Order Req Amt (Ton)</th>\n",
       "      <th>Customer Location_Chicago</th>\n",
       "      <th>Customer Location_Cincinatti</th>\n",
       "      <th>Customer Location_St Louis</th>\n",
       "    </tr>\n",
       "  </thead>\n",
       "  <tbody>\n",
       "    <tr>\n",
       "      <th>113</th>\n",
       "      <td>108</td>\n",
       "      <td>0</td>\n",
       "      <td>0</td>\n",
       "      <td>1</td>\n",
       "    </tr>\n",
       "  </tbody>\n",
       "</table>\n",
       "</div>"
      ],
      "text/plain": [
       "     Order Req Amt (Ton)  Customer Location_Chicago  \\\n",
       "113                  108                          0   \n",
       "\n",
       "     Customer Location_Cincinatti  Customer Location_St Louis  \n",
       "113                             0                           1  "
      ]
     },
     "execution_count": 47,
     "metadata": {},
     "output_type": "execute_result"
    }
   ],
   "source": [
    "test_rf1_x = df1_testX.copy()\n",
    "test_rf1_x.iloc[9:10] "
   ]
  },
  {
   "cell_type": "code",
   "execution_count": 48,
   "metadata": {},
   "outputs": [
    {
     "data": {
      "text/plain": [
       "array(['ae5d7b77-86c9-49d2-ac18-09bf9883adc2',\n",
       "       'ae5d7b77-86c9-49d2-ac18-09bf9883adc2',\n",
       "       'ae5d7b77-86c9-49d2-ac18-09bf9883adc2',\n",
       "       'cf9651b0-df49-498f-a66c-0a7f897545ce',\n",
       "       'cf9651b0-df49-498f-a66c-0a7f897545ce',\n",
       "       'ae5d7b77-86c9-49d2-ac18-09bf9883adc2',\n",
       "       'cf9651b0-df49-498f-a66c-0a7f897545ce',\n",
       "       '19f4a11d-63ca-4127-975a-15933aaa33ff',\n",
       "       'cf9651b0-df49-498f-a66c-0a7f897545ce',\n",
       "       'cf9651b0-df49-498f-a66c-0a7f897545ce',\n",
       "       'ae5d7b77-86c9-49d2-ac18-09bf9883adc2',\n",
       "       'cf9651b0-df49-498f-a66c-0a7f897545ce',\n",
       "       'ae5d7b77-86c9-49d2-ac18-09bf9883adc2',\n",
       "       '19f4a11d-63ca-4127-975a-15933aaa33ff',\n",
       "       'ae5d7b77-86c9-49d2-ac18-09bf9883adc2',\n",
       "       'cf9651b0-df49-498f-a66c-0a7f897545ce',\n",
       "       'ae5d7b77-86c9-49d2-ac18-09bf9883adc2',\n",
       "       'ae5d7b77-86c9-49d2-ac18-09bf9883adc2',\n",
       "       '19f4a11d-63ca-4127-975a-15933aaa33ff',\n",
       "       'cf9651b0-df49-498f-a66c-0a7f897545ce',\n",
       "       'cf9651b0-df49-498f-a66c-0a7f897545ce',\n",
       "       'cf9651b0-df49-498f-a66c-0a7f897545ce',\n",
       "       'ae5d7b77-86c9-49d2-ac18-09bf9883adc2',\n",
       "       'ae5d7b77-86c9-49d2-ac18-09bf9883adc2',\n",
       "       '19f4a11d-63ca-4127-975a-15933aaa33ff',\n",
       "       'cf9651b0-df49-498f-a66c-0a7f897545ce',\n",
       "       '19f4a11d-63ca-4127-975a-15933aaa33ff',\n",
       "       '19f4a11d-63ca-4127-975a-15933aaa33ff',\n",
       "       '19f4a11d-63ca-4127-975a-15933aaa33ff',\n",
       "       'cf9651b0-df49-498f-a66c-0a7f897545ce',\n",
       "       '19f4a11d-63ca-4127-975a-15933aaa33ff',\n",
       "       'ae5d7b77-86c9-49d2-ac18-09bf9883adc2',\n",
       "       'ae5d7b77-86c9-49d2-ac18-09bf9883adc2',\n",
       "       '19f4a11d-63ca-4127-975a-15933aaa33ff'], dtype=object)"
      ]
     },
     "execution_count": 48,
     "metadata": {},
     "output_type": "execute_result"
    }
   ],
   "source": [
    "y_rf1 = rfc1.predict(test_rf1_x)\n",
    "y_rf1"
   ]
  },
  {
   "cell_type": "code",
   "execution_count": 49,
   "metadata": {},
   "outputs": [],
   "source": [
    "test_rf1_y = df1_testY.copy()\n"
   ]
  },
  {
   "cell_type": "code",
   "execution_count": 50,
   "metadata": {},
   "outputs": [
    {
     "name": "stdout",
     "output_type": "stream",
     "text": [
      "-------The confusion matrix for test data is-------\n",
      "\n",
      "[[6 2 3]\n",
      " [1 5 2]\n",
      " [5 6 4]]\n",
      "\n",
      "\n",
      "-------Printing the report of test data-------\n",
      "\n",
      "                                      precision    recall  f1-score   support\n",
      "\n",
      "19f4a11d-63ca-4127-975a-15933aaa33ff       0.44      0.27      0.33        15\n",
      "ae5d7b77-86c9-49d2-ac18-09bf9883adc2       0.38      0.62      0.48         8\n",
      "cf9651b0-df49-498f-a66c-0a7f897545ce       0.50      0.55      0.52        11\n",
      "\n",
      "                            accuracy                           0.44        34\n",
      "                           macro avg       0.44      0.48      0.44        34\n",
      "                        weighted avg       0.45      0.44      0.43        34\n",
      "\n"
     ]
    }
   ],
   "source": [
    "from sklearn.metrics import confusion_matrix\n",
    "\n",
    "print('-------The confusion matrix for test data is-------\\n')\n",
    "print(confusion_matrix(test_rf1_y.values, y_rf1, labels=[\"cf9651b0-df49-498f-a66c-0a7f897545ce\",\"ae5d7b77-86c9-49d2-ac18-09bf9883adc2\",\"19f4a11d-63ca-4127-975a-15933aaa33ff\"]))\n",
    "\n",
    "from sklearn.metrics import classification_report\n",
    "print('\\n\\n-------Printing the report of test data-------\\n')\n",
    "print(classification_report(test_rf1_y.values, y_rf1))"
   ]
  },
  {
   "cell_type": "markdown",
   "metadata": {},
   "source": [
    "#### Step III: Model Evaluation"
   ]
  },
  {
   "cell_type": "code",
   "execution_count": 51,
   "metadata": {},
   "outputs": [
    {
     "name": "stdout",
     "output_type": "stream",
     "text": [
      "************************  MODEL - Random Forest REPORT  *********************************\n",
      "\n",
      "Train data\n",
      "                                      precision    recall  f1-score   support\n",
      "\n",
      "19f4a11d-63ca-4127-975a-15933aaa33ff       0.93      0.90      0.91        41\n",
      "ae5d7b77-86c9-49d2-ac18-09bf9883adc2       0.94      0.94      0.94        50\n",
      "cf9651b0-df49-498f-a66c-0a7f897545ce       0.91      0.93      0.92        43\n",
      "\n",
      "                            accuracy                           0.93       134\n",
      "                           macro avg       0.92      0.92      0.92       134\n",
      "                        weighted avg       0.93      0.93      0.93       134\n",
      "\n",
      "\n",
      "Test data\n",
      "                                      precision    recall  f1-score   support\n",
      "\n",
      "19f4a11d-63ca-4127-975a-15933aaa33ff       0.44      0.27      0.33        15\n",
      "ae5d7b77-86c9-49d2-ac18-09bf9883adc2       0.38      0.62      0.48         8\n",
      "cf9651b0-df49-498f-a66c-0a7f897545ce       0.50      0.55      0.52        11\n",
      "\n",
      "                            accuracy                           0.44        34\n",
      "                           macro avg       0.44      0.48      0.44        34\n",
      "                        weighted avg       0.45      0.44      0.43        34\n",
      "\n"
     ]
    }
   ],
   "source": [
    "print('************************  MODEL - Random Forest REPORT  *********************************\\n')\n",
    "print('Train data')\n",
    "print(classification_report(train_rf1_y.values, yhat3))\n",
    "print('\\nTest data')\n",
    "print(classification_report(test_rf1_y.values, y_rf1))"
   ]
  },
  {
   "cell_type": "markdown",
   "metadata": {},
   "source": [
    "#### V. k-Nearest Neighbour (k-NN)\n",
    "\n"
   ]
  },
  {
   "cell_type": "markdown",
   "metadata": {},
   "source": [
    "KNN is a non-parametric and lazy learning algorithm.\n",
    "\n",
    "Non-parametric means there is no assumption for underlying data distribution. In other words, the model structure determined from the dataset. \n",
    "This will be very helpful in practice where most of the real world datasets do not follow mathematical theoretical assumptions.\n",
    "\n",
    "Lazy algorithm means it does not need any training data points for model generation. All training data used in the testing phase. \n",
    "This makes training faster and testing phase slower and costlier. Costly testing phase means time and memory. In the worst case, KNN needs more time to scan all data points and scanning all data points will require more memory for storing training data.\n",
    "\n",
    "KNN performs better with a lower number of features than a large number of features. You can say that when the number of features increases than it requires more data. Increase in dimension also leads to the problem of overfitting. To avoid overfitting, the needed data will need to grow exponentially as you increase the number of dimensions. This problem of higher dimension is known as the Curse of Dimensionality."
   ]
  },
  {
   "cell_type": "markdown",
   "metadata": {},
   "source": [
    "#### The KNN Algorithm\n",
    "\n",
    "Load the data\n",
    "\n",
    "Initialize K to your chosen number of neighbors\n",
    "\n",
    "For each example in the data\n",
    "\n",
    "Calculate the distance between the query example and the current example from the data.\n",
    "\n",
    "Add the distance and the index of the example to an ordered collection\n",
    "\n",
    "Sort the ordered collection of distances and indices from smallest to largest (in ascending order) by the distances\n",
    "Pick the first K entries from the sorted collection\n",
    "\n",
    "Get the labels of the selected K entries\n",
    "\n",
    "If regression, return the mean of the K labels\n",
    "\n",
    "If classification, return the mode of the K labels"
   ]
  },
  {
   "cell_type": "code",
   "execution_count": 52,
   "metadata": {},
   "outputs": [
    {
     "data": {
      "text/html": [
       "<div>\n",
       "<style scoped>\n",
       "    .dataframe tbody tr th:only-of-type {\n",
       "        vertical-align: middle;\n",
       "    }\n",
       "\n",
       "    .dataframe tbody tr th {\n",
       "        vertical-align: top;\n",
       "    }\n",
       "\n",
       "    .dataframe thead th {\n",
       "        text-align: right;\n",
       "    }\n",
       "</style>\n",
       "<table border=\"1\" class=\"dataframe\">\n",
       "  <thead>\n",
       "    <tr style=\"text-align: right;\">\n",
       "      <th></th>\n",
       "      <th>Order Req Amt (Ton)</th>\n",
       "      <th>Customer Location_Chicago</th>\n",
       "      <th>Customer Location_Cincinatti</th>\n",
       "      <th>Customer Location_St Louis</th>\n",
       "    </tr>\n",
       "  </thead>\n",
       "  <tbody>\n",
       "    <tr>\n",
       "      <th>4</th>\n",
       "      <td>154</td>\n",
       "      <td>1</td>\n",
       "      <td>0</td>\n",
       "      <td>0</td>\n",
       "    </tr>\n",
       "    <tr>\n",
       "      <th>54</th>\n",
       "      <td>130</td>\n",
       "      <td>0</td>\n",
       "      <td>0</td>\n",
       "      <td>1</td>\n",
       "    </tr>\n",
       "    <tr>\n",
       "      <th>16</th>\n",
       "      <td>347</td>\n",
       "      <td>0</td>\n",
       "      <td>1</td>\n",
       "      <td>0</td>\n",
       "    </tr>\n",
       "    <tr>\n",
       "      <th>73</th>\n",
       "      <td>170</td>\n",
       "      <td>1</td>\n",
       "      <td>0</td>\n",
       "      <td>0</td>\n",
       "    </tr>\n",
       "    <tr>\n",
       "      <th>81</th>\n",
       "      <td>392</td>\n",
       "      <td>0</td>\n",
       "      <td>1</td>\n",
       "      <td>0</td>\n",
       "    </tr>\n",
       "  </tbody>\n",
       "</table>\n",
       "</div>"
      ],
      "text/plain": [
       "    Order Req Amt (Ton)  Customer Location_Chicago  \\\n",
       "4                   154                          1   \n",
       "54                  130                          0   \n",
       "16                  347                          0   \n",
       "73                  170                          1   \n",
       "81                  392                          0   \n",
       "\n",
       "    Customer Location_Cincinatti  Customer Location_St Louis  \n",
       "4                              0                           0  \n",
       "54                             0                           1  \n",
       "16                             1                           0  \n",
       "73                             0                           0  \n",
       "81                             1                           0  "
      ]
     },
     "execution_count": 52,
     "metadata": {},
     "output_type": "execute_result"
    }
   ],
   "source": [
    "train_knn1_x = df1_trainX.copy()\n",
    "train_rf1_x.head()"
   ]
  },
  {
   "cell_type": "code",
   "execution_count": 53,
   "metadata": {},
   "outputs": [
    {
     "data": {
      "text/plain": [
       "4     19f4a11d-63ca-4127-975a-15933aaa33ff\n",
       "54    cf9651b0-df49-498f-a66c-0a7f897545ce\n",
       "16    19f4a11d-63ca-4127-975a-15933aaa33ff\n",
       "73    cf9651b0-df49-498f-a66c-0a7f897545ce\n",
       "81    19f4a11d-63ca-4127-975a-15933aaa33ff\n",
       "Name: Fullfilled By ID, dtype: object"
      ]
     },
     "execution_count": 53,
     "metadata": {},
     "output_type": "execute_result"
    }
   ],
   "source": [
    "train_knn1_y = df1_trainY.copy()\n",
    "train_knn1_y.head()"
   ]
  },
  {
   "cell_type": "code",
   "execution_count": 54,
   "metadata": {},
   "outputs": [
    {
     "name": "stdout",
     "output_type": "stream",
     "text": [
      "Accuracy on training:  0.7313432835820896\n",
      "-------The confusion matrix for this model is-------\n",
      "[[33  2  8]\n",
      " [ 2 37 11]\n",
      " [ 5  8 28]]\n",
      "\n",
      "\n",
      "-------Printing the whole report of the model-------\n",
      "                                      precision    recall  f1-score   support\n",
      "\n",
      "19f4a11d-63ca-4127-975a-15933aaa33ff       0.60      0.68      0.64        41\n",
      "ae5d7b77-86c9-49d2-ac18-09bf9883adc2       0.79      0.74      0.76        50\n",
      "cf9651b0-df49-498f-a66c-0a7f897545ce       0.82      0.77      0.80        43\n",
      "\n",
      "                            accuracy                           0.73       134\n",
      "                           macro avg       0.74      0.73      0.73       134\n",
      "                        weighted avg       0.74      0.73      0.73       134\n",
      "\n"
     ]
    }
   ],
   "source": [
    "# import KNeighbors ClaSSifier from sklearn\n",
    "from sklearn.neighbors import KNeighborsClassifier\n",
    "\n",
    "# Instantiate the model\n",
    "model_knn1 = KNeighborsClassifier(n_neighbors=3)\n",
    "\n",
    "#fitting the model\n",
    "model_knn1.fit(train_knn1_x, train_knn1_y)\n",
    "\n",
    "#checking the training score\n",
    "print('Accuracy on training: ',model_knn1.score(train_knn1_x, train_knn1_y))\n",
    "\n",
    "# predict the target on the train dataset\n",
    "yhat1 = model_knn1.predict(train_knn1_x)\n",
    "\n",
    "from sklearn.metrics import confusion_matrix\n",
    "cm1 = confusion_matrix(train_knn1_y.values, yhat1, labels=[\"cf9651b0-df49-498f-a66c-0a7f897545ce\",\"ae5d7b77-86c9-49d2-ac18-09bf9883adc2\",\"19f4a11d-63ca-4127-975a-15933aaa33ff\"])\n",
    "\n",
    "print('-------The confusion matrix for this model is-------')\n",
    "print(cm1)\n",
    "\n",
    "from sklearn.metrics import classification_report\n",
    "print('\\n\\n-------Printing the whole report of the model-------')\n",
    "print(classification_report(train_knn1_y.values, yhat1))"
   ]
  },
  {
   "cell_type": "code",
   "execution_count": 55,
   "metadata": {},
   "outputs": [],
   "source": [
    "# Function for checking the optimal number of k\n",
    "train_accuracy = []\n",
    "for k in range(1,11):\n",
    "    model_knn1 = KNeighborsClassifier(n_neighbors=k)\n",
    "    model_knn1.fit(train_knn1_x, train_knn1_y)\n",
    "    train_accuracy.append(model_knn1.score(train_knn1_x, train_knn1_y))"
   ]
  },
  {
   "cell_type": "code",
   "execution_count": 56,
   "metadata": {},
   "outputs": [
    {
     "data": {
      "text/html": [
       "<div>\n",
       "<style scoped>\n",
       "    .dataframe tbody tr th:only-of-type {\n",
       "        vertical-align: middle;\n",
       "    }\n",
       "\n",
       "    .dataframe tbody tr th {\n",
       "        vertical-align: top;\n",
       "    }\n",
       "\n",
       "    .dataframe thead th {\n",
       "        text-align: right;\n",
       "    }\n",
       "</style>\n",
       "<table border=\"1\" class=\"dataframe\">\n",
       "  <thead>\n",
       "    <tr style=\"text-align: right;\">\n",
       "      <th></th>\n",
       "      <th>no.of k</th>\n",
       "      <th>train_acc</th>\n",
       "    </tr>\n",
       "  </thead>\n",
       "  <tbody>\n",
       "    <tr>\n",
       "      <th>0</th>\n",
       "      <td>1</td>\n",
       "      <td>0.947761</td>\n",
       "    </tr>\n",
       "    <tr>\n",
       "      <th>1</th>\n",
       "      <td>2</td>\n",
       "      <td>0.768657</td>\n",
       "    </tr>\n",
       "    <tr>\n",
       "      <th>2</th>\n",
       "      <td>3</td>\n",
       "      <td>0.731343</td>\n",
       "    </tr>\n",
       "    <tr>\n",
       "      <th>3</th>\n",
       "      <td>4</td>\n",
       "      <td>0.694030</td>\n",
       "    </tr>\n",
       "    <tr>\n",
       "      <th>4</th>\n",
       "      <td>5</td>\n",
       "      <td>0.664179</td>\n",
       "    </tr>\n",
       "    <tr>\n",
       "      <th>5</th>\n",
       "      <td>6</td>\n",
       "      <td>0.649254</td>\n",
       "    </tr>\n",
       "    <tr>\n",
       "      <th>6</th>\n",
       "      <td>7</td>\n",
       "      <td>0.611940</td>\n",
       "    </tr>\n",
       "    <tr>\n",
       "      <th>7</th>\n",
       "      <td>8</td>\n",
       "      <td>0.611940</td>\n",
       "    </tr>\n",
       "    <tr>\n",
       "      <th>8</th>\n",
       "      <td>9</td>\n",
       "      <td>0.634328</td>\n",
       "    </tr>\n",
       "    <tr>\n",
       "      <th>9</th>\n",
       "      <td>10</td>\n",
       "      <td>0.604478</td>\n",
       "    </tr>\n",
       "  </tbody>\n",
       "</table>\n",
       "</div>"
      ],
      "text/plain": [
       "   no.of k  train_acc\n",
       "0        1   0.947761\n",
       "1        2   0.768657\n",
       "2        3   0.731343\n",
       "3        4   0.694030\n",
       "4        5   0.664179\n",
       "5        6   0.649254\n",
       "6        7   0.611940\n",
       "7        8   0.611940\n",
       "8        9   0.634328\n",
       "9       10   0.604478"
      ]
     },
     "execution_count": 56,
     "metadata": {},
     "output_type": "execute_result"
    }
   ],
   "source": [
    "frame = pd.DataFrame({'no.of k':range(1,11), 'train_acc':train_accuracy})\n",
    "frame"
   ]
  },
  {
   "cell_type": "code",
   "execution_count": 57,
   "metadata": {},
   "outputs": [
    {
     "data": {
      "image/png": "[encoded data removed]",
      "text/plain": [
       "<Figure size 864x360 with 1 Axes>"
      ]
     },
     "metadata": {
      "needs_background": "light"
     },
     "output_type": "display_data"
    }
   ],
   "source": [
    "# Elbow curve\n",
    "plt.figure(figsize=(12,5))\n",
    "plt.plot(frame['no.of k'], frame['train_acc'], marker='o')\n",
    "plt.xlabel('Number of k')\n",
    "plt.ylabel('performance')\n",
    "plt.show()"
   ]
  },
  {
   "cell_type": "code",
   "execution_count": 58,
   "metadata": {},
   "outputs": [
    {
     "name": "stdout",
     "output_type": "stream",
     "text": [
      "0.7687\n"
     ]
    }
   ],
   "source": [
    "# final model\n",
    "model_knn1 = KNeighborsClassifier(n_neighbors=2)\n",
    "\n",
    "# fitting the model\n",
    "model_knn1.fit(train_knn1_x, train_knn1_y)\n",
    "\n",
    "# Training score\n",
    "print(model_knn1.score(train_knn1_x, train_knn1_y).round(4))\n"
   ]
  },
  {
   "cell_type": "code",
   "execution_count": 59,
   "metadata": {},
   "outputs": [
    {
     "data": {
      "text/html": [
       "<div>\n",
       "<style scoped>\n",
       "    .dataframe tbody tr th:only-of-type {\n",
       "        vertical-align: middle;\n",
       "    }\n",
       "\n",
       "    .dataframe tbody tr th {\n",
       "        vertical-align: top;\n",
       "    }\n",
       "\n",
       "    .dataframe thead th {\n",
       "        text-align: right;\n",
       "    }\n",
       "</style>\n",
       "<table border=\"1\" class=\"dataframe\">\n",
       "  <thead>\n",
       "    <tr style=\"text-align: right;\">\n",
       "      <th></th>\n",
       "      <th>Order Req Amt (Ton)</th>\n",
       "      <th>Customer Location_Chicago</th>\n",
       "      <th>Customer Location_Cincinatti</th>\n",
       "      <th>Customer Location_St Louis</th>\n",
       "    </tr>\n",
       "  </thead>\n",
       "  <tbody>\n",
       "    <tr>\n",
       "      <th>133</th>\n",
       "      <td>275</td>\n",
       "      <td>1</td>\n",
       "      <td>0</td>\n",
       "      <td>0</td>\n",
       "    </tr>\n",
       "    <tr>\n",
       "      <th>14</th>\n",
       "      <td>275</td>\n",
       "      <td>1</td>\n",
       "      <td>0</td>\n",
       "      <td>0</td>\n",
       "    </tr>\n",
       "    <tr>\n",
       "      <th>112</th>\n",
       "      <td>260</td>\n",
       "      <td>0</td>\n",
       "      <td>1</td>\n",
       "      <td>0</td>\n",
       "    </tr>\n",
       "    <tr>\n",
       "      <th>115</th>\n",
       "      <td>96</td>\n",
       "      <td>0</td>\n",
       "      <td>0</td>\n",
       "      <td>1</td>\n",
       "    </tr>\n",
       "    <tr>\n",
       "      <th>78</th>\n",
       "      <td>183</td>\n",
       "      <td>0</td>\n",
       "      <td>1</td>\n",
       "      <td>0</td>\n",
       "    </tr>\n",
       "  </tbody>\n",
       "</table>\n",
       "</div>"
      ],
      "text/plain": [
       "     Order Req Amt (Ton)  Customer Location_Chicago  \\\n",
       "133                  275                          1   \n",
       "14                   275                          1   \n",
       "112                  260                          0   \n",
       "115                   96                          0   \n",
       "78                   183                          0   \n",
       "\n",
       "     Customer Location_Cincinatti  Customer Location_St Louis  \n",
       "133                             0                           0  \n",
       "14                              0                           0  \n",
       "112                             1                           0  \n",
       "115                             0                           1  \n",
       "78                              1                           0  "
      ]
     },
     "execution_count": 59,
     "metadata": {},
     "output_type": "execute_result"
    }
   ],
   "source": [
    "test_knn1_x = df1_testX.copy()\n",
    "test_knn1_x.head()"
   ]
  },
  {
   "cell_type": "code",
   "execution_count": 60,
   "metadata": {},
   "outputs": [
    {
     "data": {
      "text/plain": [
       "133    19f4a11d-63ca-4127-975a-15933aaa33ff\n",
       "14     19f4a11d-63ca-4127-975a-15933aaa33ff\n",
       "112    ae5d7b77-86c9-49d2-ac18-09bf9883adc2\n",
       "115    cf9651b0-df49-498f-a66c-0a7f897545ce\n",
       "78     19f4a11d-63ca-4127-975a-15933aaa33ff\n",
       "Name: Fullfilled By ID, dtype: object"
      ]
     },
     "execution_count": 60,
     "metadata": {},
     "output_type": "execute_result"
    }
   ],
   "source": [
    "test_knn1_y = df1_testY.copy()\n",
    "test_knn1_y.head()"
   ]
  },
  {
   "cell_type": "code",
   "execution_count": 61,
   "metadata": {},
   "outputs": [
    {
     "data": {
      "text/plain": [
       "array(['ae5d7b77-86c9-49d2-ac18-09bf9883adc2',\n",
       "       'ae5d7b77-86c9-49d2-ac18-09bf9883adc2',\n",
       "       'ae5d7b77-86c9-49d2-ac18-09bf9883adc2',\n",
       "       'cf9651b0-df49-498f-a66c-0a7f897545ce',\n",
       "       'cf9651b0-df49-498f-a66c-0a7f897545ce',\n",
       "       '19f4a11d-63ca-4127-975a-15933aaa33ff',\n",
       "       'cf9651b0-df49-498f-a66c-0a7f897545ce',\n",
       "       '19f4a11d-63ca-4127-975a-15933aaa33ff',\n",
       "       'cf9651b0-df49-498f-a66c-0a7f897545ce',\n",
       "       'cf9651b0-df49-498f-a66c-0a7f897545ce',\n",
       "       '19f4a11d-63ca-4127-975a-15933aaa33ff',\n",
       "       '19f4a11d-63ca-4127-975a-15933aaa33ff',\n",
       "       '19f4a11d-63ca-4127-975a-15933aaa33ff',\n",
       "       '19f4a11d-63ca-4127-975a-15933aaa33ff',\n",
       "       'ae5d7b77-86c9-49d2-ac18-09bf9883adc2',\n",
       "       'ae5d7b77-86c9-49d2-ac18-09bf9883adc2',\n",
       "       '19f4a11d-63ca-4127-975a-15933aaa33ff',\n",
       "       'ae5d7b77-86c9-49d2-ac18-09bf9883adc2',\n",
       "       '19f4a11d-63ca-4127-975a-15933aaa33ff',\n",
       "       'ae5d7b77-86c9-49d2-ac18-09bf9883adc2',\n",
       "       'ae5d7b77-86c9-49d2-ac18-09bf9883adc2',\n",
       "       '19f4a11d-63ca-4127-975a-15933aaa33ff',\n",
       "       '19f4a11d-63ca-4127-975a-15933aaa33ff',\n",
       "       '19f4a11d-63ca-4127-975a-15933aaa33ff',\n",
       "       '19f4a11d-63ca-4127-975a-15933aaa33ff',\n",
       "       'cf9651b0-df49-498f-a66c-0a7f897545ce',\n",
       "       '19f4a11d-63ca-4127-975a-15933aaa33ff',\n",
       "       '19f4a11d-63ca-4127-975a-15933aaa33ff',\n",
       "       '19f4a11d-63ca-4127-975a-15933aaa33ff',\n",
       "       'cf9651b0-df49-498f-a66c-0a7f897545ce',\n",
       "       '19f4a11d-63ca-4127-975a-15933aaa33ff',\n",
       "       '19f4a11d-63ca-4127-975a-15933aaa33ff',\n",
       "       'ae5d7b77-86c9-49d2-ac18-09bf9883adc2',\n",
       "       '19f4a11d-63ca-4127-975a-15933aaa33ff'], dtype=object)"
      ]
     },
     "execution_count": 61,
     "metadata": {},
     "output_type": "execute_result"
    }
   ],
   "source": [
    "y_knn1 = model_knn1.predict(test_knn1_x)\n",
    "y_knn1"
   ]
  },
  {
   "cell_type": "code",
   "execution_count": 62,
   "metadata": {},
   "outputs": [
    {
     "name": "stdout",
     "output_type": "stream",
     "text": [
      "-------The confusion matrix for test data is-------\n",
      "\n",
      "[[5 2 4]\n",
      " [0 2 6]\n",
      " [2 5 8]]\n",
      "\n",
      "\n",
      "-------Printing the report of test data-------\n",
      "\n",
      "                                      precision    recall  f1-score   support\n",
      "\n",
      "19f4a11d-63ca-4127-975a-15933aaa33ff       0.44      0.53      0.48        15\n",
      "ae5d7b77-86c9-49d2-ac18-09bf9883adc2       0.22      0.25      0.24         8\n",
      "cf9651b0-df49-498f-a66c-0a7f897545ce       0.71      0.45      0.56        11\n",
      "\n",
      "                            accuracy                           0.44        34\n",
      "                           macro avg       0.46      0.41      0.43        34\n",
      "                        weighted avg       0.48      0.44      0.45        34\n",
      "\n"
     ]
    }
   ],
   "source": [
    "from sklearn.metrics import confusion_matrix\n",
    "print('-------The confusion matrix for test data is-------\\n')\n",
    "print(confusion_matrix(test_knn1_y.values, y_knn1, labels=[\"cf9651b0-df49-498f-a66c-0a7f897545ce\",\"ae5d7b77-86c9-49d2-ac18-09bf9883adc2\",\"19f4a11d-63ca-4127-975a-15933aaa33ff\"]))\n",
    "\n",
    "from sklearn.metrics import classification_report\n",
    "print('\\n\\n-------Printing the report of test data-------\\n')\n",
    "print(classification_report(test_knn1_y.values, y_knn1))\n"
   ]
  },
  {
   "cell_type": "code",
   "execution_count": 63,
   "metadata": {},
   "outputs": [
    {
     "data": {
      "text/plain": [
       "19f4a11d-63ca-4127-975a-15933aaa33ff    18\n",
       "ae5d7b77-86c9-49d2-ac18-09bf9883adc2     9\n",
       "cf9651b0-df49-498f-a66c-0a7f897545ce     7\n",
       "dtype: int64"
      ]
     },
     "execution_count": 63,
     "metadata": {},
     "output_type": "execute_result"
    }
   ],
   "source": [
    "pd.Series(y_knn1).value_counts()"
   ]
  },
  {
   "cell_type": "code",
   "execution_count": 64,
   "metadata": {},
   "outputs": [],
   "source": [
    "test_knn1_y=df1_testY.copy()"
   ]
  },
  {
   "cell_type": "code",
   "execution_count": 65,
   "metadata": {},
   "outputs": [
    {
     "name": "stdout",
     "output_type": "stream",
     "text": [
      "************************  MODEL- K-NN REPORT  *********************************\n",
      "\n",
      "Train data\n",
      "                                      precision    recall  f1-score   support\n",
      "\n",
      "19f4a11d-63ca-4127-975a-15933aaa33ff       0.60      0.68      0.64        41\n",
      "ae5d7b77-86c9-49d2-ac18-09bf9883adc2       0.79      0.74      0.76        50\n",
      "cf9651b0-df49-498f-a66c-0a7f897545ce       0.82      0.77      0.80        43\n",
      "\n",
      "                            accuracy                           0.73       134\n",
      "                           macro avg       0.74      0.73      0.73       134\n",
      "                        weighted avg       0.74      0.73      0.73       134\n",
      "\n",
      "\n",
      "Test data\n",
      "                                      precision    recall  f1-score   support\n",
      "\n",
      "19f4a11d-63ca-4127-975a-15933aaa33ff       0.44      0.53      0.48        15\n",
      "ae5d7b77-86c9-49d2-ac18-09bf9883adc2       0.22      0.25      0.24         8\n",
      "cf9651b0-df49-498f-a66c-0a7f897545ce       0.71      0.45      0.56        11\n",
      "\n",
      "                            accuracy                           0.44        34\n",
      "                           macro avg       0.46      0.41      0.43        34\n",
      "                        weighted avg       0.48      0.44      0.45        34\n",
      "\n"
     ]
    }
   ],
   "source": [
    "print('************************  MODEL- K-NN REPORT  *********************************\\n')\n",
    "print('Train data')\n",
    "print(classification_report(train_knn1_y.values, yhat1))\n",
    "print('\\nTest data')\n",
    "print(classification_report(test_knn1_y.values, y_knn1))\n"
   ]
  },
  {
   "cell_type": "markdown",
   "metadata": {},
   "source": [
    "VI. Naive Bayes Classifier\n",
    "\n",
    "Naive Bayes is a statistical classification technique based on Bayes Theorem. It is one of the simplest supervised learning algorithms. Naive Bayes classifier is the fast, accurate and reliable algorithm. \n",
    "\n",
    "Naive Bayes classifiers have high accuracy and speed on large datasets.\n",
    "Naive Bayes classifier assumes that the effect of a particular feature in a class is independent of other features. \n",
    "\n",
    "For example, a loan applicant is desirable or not depending on his/her income, previous loan and transaction history, age, and location. Even if these features are interdependent, these features are still considered independently. \n",
    "This assumption simplifies computation, and that's why it is considered as naive. This assumption is called class conditional independence.\n",
    "Naïve Bayes classification produces good results when we use it for textual data analysis such as Natural Language Processing.\n",
    "Naïve Bayes models are also known as simple Bayes or independent Bayes. \n",
    "\n",
    "All these names refer to the application of Bayes’ theorem in the classifier’s decision rule. Naïve Bayes classifier applies the Bayes’ theorem in practice. This classifier brings the power of Bayes’ theorem to machine learning.\n",
    "\n"
   ]
  },
  {
   "cell_type": "code",
   "execution_count": 66,
   "metadata": {},
   "outputs": [
    {
     "data": {
      "text/html": [
       "<div>\n",
       "<style scoped>\n",
       "    .dataframe tbody tr th:only-of-type {\n",
       "        vertical-align: middle;\n",
       "    }\n",
       "\n",
       "    .dataframe tbody tr th {\n",
       "        vertical-align: top;\n",
       "    }\n",
       "\n",
       "    .dataframe thead th {\n",
       "        text-align: right;\n",
       "    }\n",
       "</style>\n",
       "<table border=\"1\" class=\"dataframe\">\n",
       "  <thead>\n",
       "    <tr style=\"text-align: right;\">\n",
       "      <th></th>\n",
       "      <th>Order Req Amt (Ton)</th>\n",
       "      <th>Customer Location_Chicago</th>\n",
       "      <th>Customer Location_Cincinatti</th>\n",
       "      <th>Customer Location_St Louis</th>\n",
       "    </tr>\n",
       "  </thead>\n",
       "  <tbody>\n",
       "    <tr>\n",
       "      <th>4</th>\n",
       "      <td>154</td>\n",
       "      <td>1</td>\n",
       "      <td>0</td>\n",
       "      <td>0</td>\n",
       "    </tr>\n",
       "    <tr>\n",
       "      <th>54</th>\n",
       "      <td>130</td>\n",
       "      <td>0</td>\n",
       "      <td>0</td>\n",
       "      <td>1</td>\n",
       "    </tr>\n",
       "    <tr>\n",
       "      <th>16</th>\n",
       "      <td>347</td>\n",
       "      <td>0</td>\n",
       "      <td>1</td>\n",
       "      <td>0</td>\n",
       "    </tr>\n",
       "    <tr>\n",
       "      <th>73</th>\n",
       "      <td>170</td>\n",
       "      <td>1</td>\n",
       "      <td>0</td>\n",
       "      <td>0</td>\n",
       "    </tr>\n",
       "    <tr>\n",
       "      <th>81</th>\n",
       "      <td>392</td>\n",
       "      <td>0</td>\n",
       "      <td>1</td>\n",
       "      <td>0</td>\n",
       "    </tr>\n",
       "  </tbody>\n",
       "</table>\n",
       "</div>"
      ],
      "text/plain": [
       "    Order Req Amt (Ton)  Customer Location_Chicago  \\\n",
       "4                   154                          1   \n",
       "54                  130                          0   \n",
       "16                  347                          0   \n",
       "73                  170                          1   \n",
       "81                  392                          0   \n",
       "\n",
       "    Customer Location_Cincinatti  Customer Location_St Louis  \n",
       "4                              0                           0  \n",
       "54                             0                           1  \n",
       "16                             1                           0  \n",
       "73                             0                           0  \n",
       "81                             1                           0  "
      ]
     },
     "execution_count": 66,
     "metadata": {},
     "output_type": "execute_result"
    }
   ],
   "source": [
    "train_nb1_x = df1_trainX.copy()\n",
    "train_nb1_x.head()"
   ]
  },
  {
   "cell_type": "code",
   "execution_count": 67,
   "metadata": {},
   "outputs": [
    {
     "data": {
      "text/plain": [
       "4     19f4a11d-63ca-4127-975a-15933aaa33ff\n",
       "54    cf9651b0-df49-498f-a66c-0a7f897545ce\n",
       "16    19f4a11d-63ca-4127-975a-15933aaa33ff\n",
       "73    cf9651b0-df49-498f-a66c-0a7f897545ce\n",
       "81    19f4a11d-63ca-4127-975a-15933aaa33ff\n",
       "Name: Fullfilled By ID, dtype: object"
      ]
     },
     "execution_count": 67,
     "metadata": {},
     "output_type": "execute_result"
    }
   ],
   "source": [
    "train_nb1_y = df1_trainY.copy()\n",
    "train_nb1_y.head()"
   ]
  },
  {
   "cell_type": "code",
   "execution_count": 68,
   "metadata": {},
   "outputs": [
    {
     "name": "stdout",
     "output_type": "stream",
     "text": [
      "\n",
      "\n",
      "-------The confusion matrix for this model is-------\n",
      "[[35  8  0]\n",
      " [ 8 42  0]\n",
      " [18 23  0]]\n",
      "\n",
      "\n",
      "-------Printing the whole report of the model-------\n",
      "                                      precision    recall  f1-score   support\n",
      "\n",
      "19f4a11d-63ca-4127-975a-15933aaa33ff       0.00      0.00      0.00        41\n",
      "ae5d7b77-86c9-49d2-ac18-09bf9883adc2       0.58      0.84      0.68        50\n",
      "cf9651b0-df49-498f-a66c-0a7f897545ce       0.57      0.81      0.67        43\n",
      "\n",
      "                            accuracy                           0.57       134\n",
      "                           macro avg       0.38      0.55      0.45       134\n",
      "                        weighted avg       0.40      0.57      0.47       134\n",
      "\n"
     ]
    }
   ],
   "source": [
    "# train a Gaussian Naive Bayes classifier on the training set\n",
    "from sklearn.naive_bayes import GaussianNB\n",
    "\n",
    "# instantiate the model\n",
    "gnb1 = GaussianNB()\n",
    "\n",
    "# Train model\n",
    "model_nb1 = gnb1.fit(train_nb1_x, train_nb1_y)\n",
    "\n",
    "# Predicting the classes\n",
    "yhat3 = gnb1.predict(train_nb1_x)\n",
    "\n",
    "from sklearn.metrics import confusion_matrix\n",
    "cm3 = confusion_matrix(train_nb1_y.values, yhat3, labels=[\"cf9651b0-df49-498f-a66c-0a7f897545ce\",\"ae5d7b77-86c9-49d2-ac18-09bf9883adc2\",\"19f4a11d-63ca-4127-975a-15933aaa33ff\"])\n",
    "print('\\n\\n-------The confusion matrix for this model is-------')\n",
    "print(cm3)\n",
    "\n",
    "from sklearn.metrics import classification_report\n",
    "print('\\n\\n-------Printing the whole report of the model-------')\n",
    "print(classification_report(train_nb1_y.values, yhat3))"
   ]
  },
  {
   "cell_type": "code",
   "execution_count": 69,
   "metadata": {},
   "outputs": [
    {
     "data": {
      "text/html": [
       "<div>\n",
       "<style scoped>\n",
       "    .dataframe tbody tr th:only-of-type {\n",
       "        vertical-align: middle;\n",
       "    }\n",
       "\n",
       "    .dataframe tbody tr th {\n",
       "        vertical-align: top;\n",
       "    }\n",
       "\n",
       "    .dataframe thead th {\n",
       "        text-align: right;\n",
       "    }\n",
       "</style>\n",
       "<table border=\"1\" class=\"dataframe\">\n",
       "  <thead>\n",
       "    <tr style=\"text-align: right;\">\n",
       "      <th></th>\n",
       "      <th>Order Req Amt (Ton)</th>\n",
       "      <th>Customer Location_Chicago</th>\n",
       "      <th>Customer Location_Cincinatti</th>\n",
       "      <th>Customer Location_St Louis</th>\n",
       "    </tr>\n",
       "  </thead>\n",
       "  <tbody>\n",
       "    <tr>\n",
       "      <th>133</th>\n",
       "      <td>275</td>\n",
       "      <td>1</td>\n",
       "      <td>0</td>\n",
       "      <td>0</td>\n",
       "    </tr>\n",
       "    <tr>\n",
       "      <th>14</th>\n",
       "      <td>275</td>\n",
       "      <td>1</td>\n",
       "      <td>0</td>\n",
       "      <td>0</td>\n",
       "    </tr>\n",
       "    <tr>\n",
       "      <th>112</th>\n",
       "      <td>260</td>\n",
       "      <td>0</td>\n",
       "      <td>1</td>\n",
       "      <td>0</td>\n",
       "    </tr>\n",
       "    <tr>\n",
       "      <th>115</th>\n",
       "      <td>96</td>\n",
       "      <td>0</td>\n",
       "      <td>0</td>\n",
       "      <td>1</td>\n",
       "    </tr>\n",
       "    <tr>\n",
       "      <th>78</th>\n",
       "      <td>183</td>\n",
       "      <td>0</td>\n",
       "      <td>1</td>\n",
       "      <td>0</td>\n",
       "    </tr>\n",
       "  </tbody>\n",
       "</table>\n",
       "</div>"
      ],
      "text/plain": [
       "     Order Req Amt (Ton)  Customer Location_Chicago  \\\n",
       "133                  275                          1   \n",
       "14                   275                          1   \n",
       "112                  260                          0   \n",
       "115                   96                          0   \n",
       "78                   183                          0   \n",
       "\n",
       "     Customer Location_Cincinatti  Customer Location_St Louis  \n",
       "133                             0                           0  \n",
       "14                              0                           0  \n",
       "112                             1                           0  \n",
       "115                             0                           1  \n",
       "78                              1                           0  "
      ]
     },
     "execution_count": 69,
     "metadata": {},
     "output_type": "execute_result"
    }
   ],
   "source": [
    "test_nb1_x = df1_testX.copy()\n",
    "test_nb1_x.head()"
   ]
  },
  {
   "cell_type": "code",
   "execution_count": 70,
   "metadata": {},
   "outputs": [
    {
     "data": {
      "text/plain": [
       "133    19f4a11d-63ca-4127-975a-15933aaa33ff\n",
       "14     19f4a11d-63ca-4127-975a-15933aaa33ff\n",
       "112    ae5d7b77-86c9-49d2-ac18-09bf9883adc2\n",
       "115    cf9651b0-df49-498f-a66c-0a7f897545ce\n",
       "78     19f4a11d-63ca-4127-975a-15933aaa33ff\n",
       "Name: Fullfilled By ID, dtype: object"
      ]
     },
     "execution_count": 70,
     "metadata": {},
     "output_type": "execute_result"
    }
   ],
   "source": [
    "test_nb1_y = df1_testY.copy()\n",
    "test_nb1_y.head()"
   ]
  },
  {
   "cell_type": "code",
   "execution_count": 71,
   "metadata": {},
   "outputs": [
    {
     "data": {
      "text/plain": [
       "array(['ae5d7b77-86c9-49d2-ac18-09bf9883adc2',\n",
       "       'ae5d7b77-86c9-49d2-ac18-09bf9883adc2',\n",
       "       'ae5d7b77-86c9-49d2-ac18-09bf9883adc2',\n",
       "       'cf9651b0-df49-498f-a66c-0a7f897545ce',\n",
       "       'ae5d7b77-86c9-49d2-ac18-09bf9883adc2',\n",
       "       'ae5d7b77-86c9-49d2-ac18-09bf9883adc2',\n",
       "       'cf9651b0-df49-498f-a66c-0a7f897545ce',\n",
       "       'ae5d7b77-86c9-49d2-ac18-09bf9883adc2',\n",
       "       'cf9651b0-df49-498f-a66c-0a7f897545ce',\n",
       "       'cf9651b0-df49-498f-a66c-0a7f897545ce',\n",
       "       'ae5d7b77-86c9-49d2-ac18-09bf9883adc2',\n",
       "       'ae5d7b77-86c9-49d2-ac18-09bf9883adc2',\n",
       "       'ae5d7b77-86c9-49d2-ac18-09bf9883adc2',\n",
       "       'ae5d7b77-86c9-49d2-ac18-09bf9883adc2',\n",
       "       'ae5d7b77-86c9-49d2-ac18-09bf9883adc2',\n",
       "       'ae5d7b77-86c9-49d2-ac18-09bf9883adc2',\n",
       "       'ae5d7b77-86c9-49d2-ac18-09bf9883adc2',\n",
       "       'cf9651b0-df49-498f-a66c-0a7f897545ce',\n",
       "       'ae5d7b77-86c9-49d2-ac18-09bf9883adc2',\n",
       "       'cf9651b0-df49-498f-a66c-0a7f897545ce',\n",
       "       'ae5d7b77-86c9-49d2-ac18-09bf9883adc2',\n",
       "       'cf9651b0-df49-498f-a66c-0a7f897545ce',\n",
       "       'ae5d7b77-86c9-49d2-ac18-09bf9883adc2',\n",
       "       'ae5d7b77-86c9-49d2-ac18-09bf9883adc2',\n",
       "       'ae5d7b77-86c9-49d2-ac18-09bf9883adc2',\n",
       "       'cf9651b0-df49-498f-a66c-0a7f897545ce',\n",
       "       'cf9651b0-df49-498f-a66c-0a7f897545ce',\n",
       "       'ae5d7b77-86c9-49d2-ac18-09bf9883adc2',\n",
       "       'ae5d7b77-86c9-49d2-ac18-09bf9883adc2',\n",
       "       'cf9651b0-df49-498f-a66c-0a7f897545ce',\n",
       "       'ae5d7b77-86c9-49d2-ac18-09bf9883adc2',\n",
       "       'ae5d7b77-86c9-49d2-ac18-09bf9883adc2',\n",
       "       'ae5d7b77-86c9-49d2-ac18-09bf9883adc2',\n",
       "       'cf9651b0-df49-498f-a66c-0a7f897545ce'], dtype='<U36')"
      ]
     },
     "execution_count": 71,
     "metadata": {},
     "output_type": "execute_result"
    }
   ],
   "source": [
    "y_nb1 = gnb1.predict(test_nb1_x)\n",
    "y_nb1"
   ]
  },
  {
   "cell_type": "code",
   "execution_count": 72,
   "metadata": {},
   "outputs": [],
   "source": [
    "test_nb1_y=df1_testY.copy()"
   ]
  },
  {
   "cell_type": "code",
   "execution_count": 75,
   "metadata": {},
   "outputs": [
    {
     "name": "stdout",
     "output_type": "stream",
     "text": [
      "-------The confusion matrix for test data is-------\n",
      "\n",
      "[[ 8  3  0]\n",
      " [ 0  8  0]\n",
      " [ 3 12  0]]\n",
      "\n",
      "\n",
      "-------Printing the report of test data-------\n",
      "\n",
      "                                      precision    recall  f1-score   support\n",
      "\n",
      "19f4a11d-63ca-4127-975a-15933aaa33ff       0.00      0.00      0.00        15\n",
      "ae5d7b77-86c9-49d2-ac18-09bf9883adc2       0.35      1.00      0.52         8\n",
      "cf9651b0-df49-498f-a66c-0a7f897545ce       0.73      0.73      0.73        11\n",
      "\n",
      "                            accuracy                           0.47        34\n",
      "                           macro avg       0.36      0.58      0.41        34\n",
      "                        weighted avg       0.32      0.47      0.36        34\n",
      "\n"
     ]
    }
   ],
   "source": [
    "from sklearn.metrics import confusion_matrix\n",
    "print('-------The confusion matrix for test data is-------\\n')\n",
    "print(confusion_matrix(test_nb1_y.values, y_nb1, labels=[\"cf9651b0-df49-498f-a66c-0a7f897545ce\",\"ae5d7b77-86c9-49d2-ac18-09bf9883adc2\",\"19f4a11d-63ca-4127-975a-15933aaa33ff\"]))\n",
    "\n",
    "from sklearn.metrics import classification_report\n",
    "print('\\n\\n-------Printing the report of test data-------\\n')\n",
    "print(classification_report(test_nb1_y.values, y_nb1))"
   ]
  },
  {
   "cell_type": "code",
   "execution_count": 76,
   "metadata": {},
   "outputs": [
    {
     "data": {
      "text/plain": [
       "ae5d7b77-86c9-49d2-ac18-09bf9883adc2    23\n",
       "cf9651b0-df49-498f-a66c-0a7f897545ce    11\n",
       "dtype: int64"
      ]
     },
     "execution_count": 76,
     "metadata": {},
     "output_type": "execute_result"
    }
   ],
   "source": [
    "pd.Series(y_nb1).value_counts()"
   ]
  },
  {
   "cell_type": "code",
   "execution_count": 77,
   "metadata": {},
   "outputs": [
    {
     "name": "stdout",
     "output_type": "stream",
     "text": [
      "************************  MODEL- Naive Bayes Classifier   *********************************\n",
      "\n",
      "Train data\n",
      "                                      precision    recall  f1-score   support\n",
      "\n",
      "19f4a11d-63ca-4127-975a-15933aaa33ff       0.00      0.00      0.00        41\n",
      "ae5d7b77-86c9-49d2-ac18-09bf9883adc2       0.58      0.84      0.68        50\n",
      "cf9651b0-df49-498f-a66c-0a7f897545ce       0.57      0.81      0.67        43\n",
      "\n",
      "                            accuracy                           0.57       134\n",
      "                           macro avg       0.38      0.55      0.45       134\n",
      "                        weighted avg       0.40      0.57      0.47       134\n",
      "\n",
      "\n",
      "Test data\n",
      "                                      precision    recall  f1-score   support\n",
      "\n",
      "19f4a11d-63ca-4127-975a-15933aaa33ff       0.00      0.00      0.00        15\n",
      "ae5d7b77-86c9-49d2-ac18-09bf9883adc2       0.35      1.00      0.52         8\n",
      "cf9651b0-df49-498f-a66c-0a7f897545ce       0.73      0.73      0.73        11\n",
      "\n",
      "                            accuracy                           0.47        34\n",
      "                           macro avg       0.36      0.58      0.41        34\n",
      "                        weighted avg       0.32      0.47      0.36        34\n",
      "\n"
     ]
    }
   ],
   "source": [
    "print('************************  MODEL- Naive Bayes Classifier   *********************************\\n')\n",
    "print('Train data')\n",
    "print(classification_report(train_nb1_y.values, yhat3))\n",
    "print('\\nTest data')\n",
    "print(classification_report(test_nb1_y.values, y_nb1))"
   ]
  },
  {
   "cell_type": "code",
   "execution_count": null,
   "metadata": {},
   "outputs": [],
   "source": []
  }
 ],
 "metadata": {
  "kernelspec": {
   "display_name": "Python 3",
   "language": "python",
   "name": "python3"
  },
  "language_info": {
   "codemirror_mode": {
    "name": "ipython",
    "version": 3
   },
   "file_extension": ".py",
   "mimetype": "text/x-python",
   "name": "python",
   "nbconvert_exporter": "python",
   "pygments_lexer": "ipython3",
   "version": "3.8.0"
  }
 },
 "nbformat": 4,
 "nbformat_minor": 4
}
